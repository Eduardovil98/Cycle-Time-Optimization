{
 "cells": [
  {
   "attachments": {},
   "cell_type": "markdown",
   "metadata": {},
   "source": [
    "**<center><span style=\"color:blue\">Importar Librerias</span></center>**\n",
    "*****"
   ]
  },
  {
   "cell_type": "code",
   "execution_count": 1,
   "metadata": {},
   "outputs": [],
   "source": [
    "import pandas as pd\n",
    "import numpy as np\n",
    "import sympy\n",
    "import os\n",
    "from pathlib import Path\n",
    "from threading import Thread, Event\n",
    "from tqdm import tqdm\n",
    "import json\n",
    "import datetime\n",
    "import seaborn as sns"
   ]
  },
  {
   "cell_type": "code",
   "execution_count": 2,
   "metadata": {},
   "outputs": [],
   "source": [
    "import matplotlib.pyplot as plt\n",
    "plt.style.use(\"ggplot\") "
   ]
  },
  {
   "attachments": {},
   "cell_type": "markdown",
   "metadata": {},
   "source": [
    "**<span style=\"color:blue\">Nata:</span>**<br>\n",
    "- <span style=\"color:gray\">Es necesario tener instalado el software **RoboDK**</span><br>"
   ]
  },
  {
   "cell_type": "code",
   "execution_count": 3,
   "metadata": {},
   "outputs": [],
   "source": [
    "# Instalar librerias con el Kernel de RoboDK ---> Ejemplo ---> (c:/RoboDK/Python37/python.exe -m pip install sympy)\n",
    "#\n",
    "#\n",
    "from robolink import *    # API to communicate with RoboDK\n",
    "from robodk import *      # robodk robotics toolbox"
   ]
  },
  {
   "cell_type": "code",
   "execution_count": 4,
   "metadata": {},
   "outputs": [],
   "source": [
    "# >> Ruta del proyecto\n",
    "#\n",
    "module_path = os.path.abspath(os.getcwd())"
   ]
  },
  {
   "cell_type": "code",
   "execution_count": 5,
   "metadata": {},
   "outputs": [],
   "source": [
    "output_path = \"./Output\"\n",
    "if not os.path.isdir(output_path): os.mkdir(output_path)\n",
    "robot_1_output = os.path.join(output_path, \"Robot-1\")\n",
    "robot_2_output = os.path.join(output_path, \"Robot-2\")\n",
    "if not os.path.isdir(robot_1_output): os.mkdir(robot_1_output)\n",
    "if not os.path.isdir(robot_2_output): os.mkdir(robot_2_output)"
   ]
  },
  {
   "attachments": {},
   "cell_type": "markdown",
   "metadata": {},
   "source": [
    "##### **<center><span style=\"color:blue\">Funciones y Clases Auxliares</span></center>**\n",
    "*****"
   ]
  },
  {
   "cell_type": "code",
   "execution_count": 6,
   "metadata": {},
   "outputs": [],
   "source": [
    "# >> Imprimir en consola\n",
    "#\n",
    "#\n",
    "def prRed(skk): return(\"\\033[1;91m {}\\033[00m\" .format(skk))\n",
    "\n",
    "def prGreen(skk): return(\"\\033[1;92m {}\\033[00m\" .format(skk))\n",
    " \n",
    "def prYellow(skk): return(\"\\033[1;93m {}\\033[00m\" .format(skk))\n",
    " \n",
    "def prLightPurple(skk): return(\"\\033[1;94m {}\\033[00m\" .format(skk))\n",
    " \n",
    "def prPurple(skk): return(\"\\033[1;95m {}\\033[00m\" .format(skk))\n",
    " \n",
    "def prCyan(skk): return(\"\\033[1;96m {}\\033[00m\" .format(skk))\n",
    " \n",
    "def prLightGray(skk): return(\"\\033[97m {}\\033[00m\" .format(skk))\n",
    " \n",
    "def prBlack(skk): return(\"\\033[1;98m {}\\033[00m\" .format(skk))\n",
    "\n",
    "cell_hover = {\n",
    "    \"selector\": \"td:hover\",\n",
    "    \"props\": [(\"background-color\", \"#FFFFE0\")]\n",
    "}\n",
    "index_names = {\n",
    "    \"selector\": \".index_name\",\n",
    "    \"props\": \"font-style: italic; color: darkgrey; font-weight:normal;\"\n",
    "}\n",
    "headers = {\n",
    "    \"selector\": \"th:not(.index_name)\",\n",
    "    \"props\": \"background-color: #800000; color: white;\"\n",
    "}"
   ]
  },
  {
   "cell_type": "code",
   "execution_count": 7,
   "metadata": {},
   "outputs": [],
   "source": [
    "# >> Creamos una clase para escritura y le lectura de archivos\n",
    "#\n",
    "# Version 2.1\n",
    "class Files():\n",
    "    def __init__(self, parent = None):\n",
    "        self.parent = parent\n",
    "    # Version 1.2\n",
    "    def is_file_in_use(self, file_path):\n",
    "        path = Path(file_path)\n",
    "        if not path.exists():\n",
    "            return False\n",
    "        try:\n",
    "            path.rename(path)\n",
    "        except PermissionError:\n",
    "            return True\n",
    "        else:\n",
    "            return False\n",
    "    # Version 1.2\n",
    "    def write_file(self, file_path, data=[], type_mode=\"w\"):\n",
    "        __run = True\n",
    "        while __run:\n",
    "            __status = False\n",
    "            if os.path.isfile(file_path):\n",
    "                __status = self.is_file_in_use(file_path=file_path)\n",
    "            if not __status:\n",
    "                try:\n",
    "                    __file_input = open(file_path, type_mode, encoding=\"utf-8\", errors=\"replace\")\n",
    "                    for __value in data:\n",
    "                        __value = str(__value).replace(\"\\n\", \"\")\n",
    "                        __file_input.write(str(__value) + \"\\n\")\n",
    "                    __file_input.close()\n",
    "                    __run = False\n",
    "                    break\n",
    "                except:\n",
    "                    print(\"Error...\")\n",
    "    # Version 1\n",
    "    def readSingleLineFile(self, __filepath):\n",
    "        __sline = \"\"\n",
    "        __file = open(__filepath, \"r\", encoding=\"utf-8\", errors=\"replace\")\n",
    "        __content = __file.readlines()\n",
    "        __file.close()\n",
    "        for __line in __content:\n",
    "            if __line.find(\"#\") != -1:\n",
    "                pass\n",
    "            else:\n",
    "                if (__line == \"\") or (__line == \"\\n\"):\n",
    "                    pass\n",
    "                else:\n",
    "                    __sline = __line.replace(\"\\n\", \"\")\n",
    "        return __sline\n",
    "    # Version 1\n",
    "    def readFile(self, filepath):\n",
    "        __content = []\n",
    "        __fullpath = os.path.abspath(str(filepath))\n",
    "        if os.path.isfile(__fullpath):\n",
    "            __ofile = open(__fullpath, \"r\", encoding=\"utf-8\", errors=\"replace\")\n",
    "            __content = __ofile.readlines()\n",
    "            __ofile.close()\n",
    "        return __content\n",
    "        # Version 1\n",
    "    def readFileString(self, filepath):\n",
    "        __content = \"\"\n",
    "        __fullpath = os.path.abspath(str(filepath))\n",
    "        if os.path.isfile(__fullpath):\n",
    "            __ofile = open(__fullpath, \"r\", encoding=\"utf-8\", errors=\"replace\")\n",
    "            __content = __ofile.read()\n",
    "            __ofile.close()\n",
    "        return __content\n",
    "    # Version 1.2\n",
    "    def write_file_string(self, file_path, data_string, type_mode=\"w\"):\n",
    "        __run = True\n",
    "        while __run:\n",
    "            __status = False\n",
    "            if os.path.isfile(file_path):\n",
    "                __status = self.is_file_in_use(file_path=file_path)\n",
    "            if not __status:\n",
    "                try:\n",
    "                    __file_input = open(file_path, type_mode, encoding=\"utf-8\", errors=\"replace\")\n",
    "                    __file_input.write(data_string)\n",
    "                    __file_input.close()\n",
    "                    __run = False\n",
    "                except:\n",
    "                    pass\n",
    "            # time.sleep(3)"
   ]
  },
  {
   "cell_type": "code",
   "execution_count": 8,
   "metadata": {},
   "outputs": [],
   "source": [
    "# >> Instanciar la clase Files()\n",
    "files = Files()"
   ]
  },
  {
   "attachments": {},
   "cell_type": "markdown",
   "metadata": {},
   "source": [
    "*****\n",
    "\n",
    "##### **<center><span style=\"color:blue\">Denavit Hartemberg</span></center></br></br>**\n",
    "**<center>Sistema de coordenadas del robot 6GDL</center>**<br><br>\n",
    "*****\n",
    "<center>\n",
    "<div>\n",
    "<img src=\"./Images/Sistema de coordenadas - Robot.png\" width=\"600\">\n",
    "</div>\n",
    "​<center>\n"
   ]
  },
  {
   "attachments": {},
   "cell_type": "markdown",
   "metadata": {},
   "source": [
    "**<span style=\"color:blue\">Nata:</span>**<br>\n",
    "- <span style=\"color:gray\">Unidades en mm</span><br>\n",
    "- **Comenzaremos el trabajo desde la descripción de Denavit-Hartenberg para el robot con 6GDL.**"
   ]
  },
  {
   "attachments": {},
   "cell_type": "markdown",
   "metadata": {},
   "source": [
    "**<center>Tabla de Denavit-Hartemberg</center>**\n",
    "\n",
    "<center>   \n",
    "\n",
    "| link | $\\bm{\\theta_{i-1}}$ | $\\bm{d_{i-1}}$ | $\\bm{\\alpha_{i-1}}$ | $\\bm{a_{i-1}}$| \n",
    "| ---: | ---: | ---: | ---: | ---: |\n",
    "|  1  |  0  | 505 | 150 | -90 |\n",
    "|  2  |  90 |   0 |-760 |  0  |\n",
    "|  3  |  0  |   0 |-200 |  90 |\n",
    "|  4  |  0  |1082 |   0 | -90 |\n",
    "|  5  |  0  |   0 |   0 |  90 |\n",
    "|  6  |  0  | 100 |   0 |  0  |\n",
    "|  7  |  0  | 340 |   0 | -89 |\n",
    "\n",
    "</center>\n",
    "<!-- </div> -->"
   ]
  },
  {
   "attachments": {},
   "cell_type": "markdown",
   "metadata": {},
   "source": [
    "******"
   ]
  },
  {
   "attachments": {},
   "cell_type": "markdown",
   "metadata": {},
   "source": [
    "*****\n",
    "\n",
    "##### **<center><span style=\"color:blue\">Matriz de Transformación Homegenea</span></center>**\n",
    "*****"
   ]
  },
  {
   "cell_type": "code",
   "execution_count": 9,
   "metadata": {},
   "outputs": [],
   "source": [
    "# Definimos una función para construir las matrices de transformación\n",
    "# en forma simbóĺica a partir de los parámetros D-H\n",
    "\n",
    "def MatrixfromDH(theta, d, a, alpha):\n",
    "    # theta y alpha en radianes\n",
    "    # d y a en metros\n",
    "    Rz = sympy.Matrix([[sympy.cos(theta), -sympy.sin(theta), 0, 0],\n",
    "                   [sympy.sin(theta), sympy.cos(theta), 0, 0],\n",
    "                   [0, 0, 1, 0],\n",
    "                   [0, 0, 0, 1]])\n",
    "    tz = sympy.Matrix([[1, 0, 0, 0],\n",
    "                   [0, 1, 0, 0],\n",
    "                   [0, 0, 1, d],\n",
    "                   [0, 0, 0, 1]])\n",
    "    ta = sympy.Matrix([[1, 0, 0, a],\n",
    "                   [0, 1, 0, 0],\n",
    "                   [0, 0, 1, 0],\n",
    "                   [0, 0, 0, 1]])\n",
    "    Rx = sympy.Matrix([[1, 0, 0, 0],\n",
    "                   [0, sympy.cos(alpha), -sympy.sin(alpha), 0],\n",
    "                   [0, sympy.sin(alpha), sympy.cos(alpha), 0],\n",
    "                   [0, 0, 0, 1]])\n",
    "    return Rz*tz*ta*Rx\n",
    "\n",
    "# y definimos una función para obtener la matriz de transformación desde una pose\n",
    "\n",
    "def matrixFromPose(pose):\n",
    "    # pose = [x, y, z, alpha, beta, gamma]\n",
    "    # x, y, z en metros\n",
    "    # alpha, beta, gamma en radianes\n",
    "    x, y, z = pose[0], pose[1], pose[2]\n",
    "    alpha, beta, gamma = pose[3], pose[4], pose[5]\n",
    "    Ra = sympy.Matrix([[1, 0, 0, 0],\n",
    "                   [0, sympy.cos(alpha), -sympy.sin(alpha), 0],\n",
    "                   [0, sympy.sin(alpha), sympy.cos(alpha), 0],\n",
    "                   [0, 0, 0, 1]])\n",
    "    Rb = sympy.Matrix([[sympy.cos(beta), 0, sympy.sin(beta), 0],\n",
    "                   [0, 1, 0, 0],\n",
    "                   [-sympy.sin(beta), 0, sympy.cos(beta), 0],\n",
    "                   [0, 0, 0, 1]])\n",
    "    Rc = sympy.Matrix([[sympy.cos(gamma), -sympy.sin(gamma), 0, 0],\n",
    "                   [sympy.sin(gamma), sympy.cos(gamma), 0, 0],\n",
    "                   [0, 0, 1, 0],\n",
    "                   [0, 0, 0, 1]])\n",
    "    T = Ra*Rb*Rc\n",
    "    T[0,3] = x\n",
    "    T[1,3] = y\n",
    "    T[2,3] = z\n",
    "    return T"
   ]
  },
  {
   "attachments": {},
   "cell_type": "markdown",
   "metadata": {},
   "source": [
    "<center><span style=\"color:gray\">Para describir la geometría espacial de un manipulador robótico en representación de coordenadas homogéneas \n",
    "sobre el espacio Euclidiano, es necesario recordar la matriz de transformación homogénea descrita por \n",
    "representación de Denavit-Hartenberg, la cual establece de manera sistemática, una metodología para \n",
    "asignar un sistema de coordenadas a cada elemento de la cadena articulada. Dicha representación, está descritaen la siguiente ecuación y representa el movimiento en cada eslabón en la articulación con respecto al sistema de \n",
    "coordenadas del elemento previo.</span></center>"
   ]
  },
  {
   "attachments": {},
   "cell_type": "markdown",
   "metadata": {},
   "source": [
    "<center>\n",
    "<div>\n",
    "<img src=\"./Images/Matriz de tranformacion Homegenea.png\" width=\"600\">\n",
    "</div>\n",
    "​<center>"
   ]
  },
  {
   "cell_type": "code",
   "execution_count": 10,
   "metadata": {},
   "outputs": [],
   "source": [
    "# >> Matrices de tranformacion por cada eslabon\n",
    "q1, q2, q3, q4, q5, q6 = sympy.symbols(['q1', 'q2', 'q3', 'q4', 'q5', 'q6'])\n",
    "# q1, q2, q3, q4, q5, q6 = np.array([-40.46, -35.37, -40.23, -54.89, -83.44, -148.68]) * (np.pi/180)\n",
    "join1 = MatrixfromDH(q1, 0, 150, -sympy.pi/2)\n",
    "join2 = MatrixfromDH(sympy.pi/2 + q2, 0, -760, 0)\n",
    "join3 = MatrixfromDH(-q3, 0, -200, sympy.pi/2)\n",
    "join4 = MatrixfromDH(-q4, 1082, 0, -sympy.pi/2)\n",
    "join5 = MatrixfromDH(-q5, 0, 0, sympy.pi/2)\n",
    "join6 = MatrixfromDH(-q6, 100, 0, 0)\n",
    "# >> Pistola de Soldadura\n",
    "join7 = MatrixfromDH(0, 340, -89, 0)"
   ]
  },
  {
   "cell_type": "code",
   "execution_count": 11,
   "metadata": {},
   "outputs": [
    {
     "data": {
      "text/latex": [
       "$\\displaystyle \\left[\\begin{matrix}\\left(\\left(\\sin{\\left(q_{1} \\right)} \\sin{\\left(q_{4} \\right)} - \\sin{\\left(q_{2} - q_{3} \\right)} \\cos{\\left(q_{1} \\right)} \\cos{\\left(q_{4} \\right)}\\right) \\cos{\\left(q_{5} \\right)} + \\sin{\\left(q_{5} \\right)} \\cos{\\left(q_{1} \\right)} \\cos{\\left(q_{2} - q_{3} \\right)}\\right) \\cos{\\left(q_{6} \\right)} + \\left(\\sin{\\left(q_{1} \\right)} \\cos{\\left(q_{4} \\right)} + \\sin{\\left(q_{4} \\right)} \\sin{\\left(q_{2} - q_{3} \\right)} \\cos{\\left(q_{1} \\right)}\\right) \\sin{\\left(q_{6} \\right)} & \\left(\\left(\\sin{\\left(q_{1} \\right)} \\sin{\\left(q_{4} \\right)} - \\sin{\\left(q_{2} - q_{3} \\right)} \\cos{\\left(q_{1} \\right)} \\cos{\\left(q_{4} \\right)}\\right) \\cos{\\left(q_{5} \\right)} + \\sin{\\left(q_{5} \\right)} \\cos{\\left(q_{1} \\right)} \\cos{\\left(q_{2} - q_{3} \\right)}\\right) \\sin{\\left(q_{6} \\right)} - \\left(\\sin{\\left(q_{1} \\right)} \\cos{\\left(q_{4} \\right)} + \\sin{\\left(q_{4} \\right)} \\sin{\\left(q_{2} - q_{3} \\right)} \\cos{\\left(q_{1} \\right)}\\right) \\cos{\\left(q_{6} \\right)} & \\left(- \\sin{\\left(q_{1} \\right)} \\sin{\\left(q_{4} \\right)} + \\sin{\\left(q_{2} - q_{3} \\right)} \\cos{\\left(q_{1} \\right)} \\cos{\\left(q_{4} \\right)}\\right) \\sin{\\left(q_{5} \\right)} + \\cos{\\left(q_{1} \\right)} \\cos{\\left(q_{5} \\right)} \\cos{\\left(q_{2} - q_{3} \\right)} & - 440 \\sin{\\left(q_{1} \\right)} \\sin{\\left(q_{4} \\right)} \\sin{\\left(q_{5} \\right)} - 89 \\sin{\\left(q_{1} \\right)} \\sin{\\left(q_{4} \\right)} \\cos{\\left(q_{5} \\right)} \\cos{\\left(q_{6} \\right)} - 89 \\sin{\\left(q_{1} \\right)} \\sin{\\left(q_{6} \\right)} \\cos{\\left(q_{4} \\right)} + 760 \\sin{\\left(q_{2} \\right)} \\cos{\\left(q_{1} \\right)} - 89 \\sin{\\left(q_{4} \\right)} \\sin{\\left(q_{6} \\right)} \\sin{\\left(q_{2} - q_{3} \\right)} \\cos{\\left(q_{1} \\right)} + 440 \\sin{\\left(q_{5} \\right)} \\sin{\\left(q_{2} - q_{3} \\right)} \\cos{\\left(q_{1} \\right)} \\cos{\\left(q_{4} \\right)} - 89 \\sin{\\left(q_{5} \\right)} \\cos{\\left(q_{1} \\right)} \\cos{\\left(q_{6} \\right)} \\cos{\\left(q_{2} - q_{3} \\right)} + 89 \\sin{\\left(q_{2} - q_{3} \\right)} \\cos{\\left(q_{1} \\right)} \\cos{\\left(q_{4} \\right)} \\cos{\\left(q_{5} \\right)} \\cos{\\left(q_{6} \\right)} + 200 \\sin{\\left(q_{2} - q_{3} \\right)} \\cos{\\left(q_{1} \\right)} + 440 \\cos{\\left(q_{1} \\right)} \\cos{\\left(q_{5} \\right)} \\cos{\\left(q_{2} - q_{3} \\right)} + 1082 \\cos{\\left(q_{1} \\right)} \\cos{\\left(q_{2} - q_{3} \\right)} + 150 \\cos{\\left(q_{1} \\right)}\\\\- \\left(\\left(\\sin{\\left(q_{1} \\right)} \\sin{\\left(q_{2} - q_{3} \\right)} \\cos{\\left(q_{4} \\right)} + \\sin{\\left(q_{4} \\right)} \\cos{\\left(q_{1} \\right)}\\right) \\cos{\\left(q_{5} \\right)} - \\sin{\\left(q_{1} \\right)} \\sin{\\left(q_{5} \\right)} \\cos{\\left(q_{2} - q_{3} \\right)}\\right) \\cos{\\left(q_{6} \\right)} + \\left(\\sin{\\left(q_{1} \\right)} \\sin{\\left(q_{4} \\right)} \\sin{\\left(q_{2} - q_{3} \\right)} - \\cos{\\left(q_{1} \\right)} \\cos{\\left(q_{4} \\right)}\\right) \\sin{\\left(q_{6} \\right)} & - \\left(\\left(\\sin{\\left(q_{1} \\right)} \\sin{\\left(q_{2} - q_{3} \\right)} \\cos{\\left(q_{4} \\right)} + \\sin{\\left(q_{4} \\right)} \\cos{\\left(q_{1} \\right)}\\right) \\cos{\\left(q_{5} \\right)} - \\sin{\\left(q_{1} \\right)} \\sin{\\left(q_{5} \\right)} \\cos{\\left(q_{2} - q_{3} \\right)}\\right) \\sin{\\left(q_{6} \\right)} - \\left(\\sin{\\left(q_{1} \\right)} \\sin{\\left(q_{4} \\right)} \\sin{\\left(q_{2} - q_{3} \\right)} - \\cos{\\left(q_{1} \\right)} \\cos{\\left(q_{4} \\right)}\\right) \\cos{\\left(q_{6} \\right)} & \\left(\\sin{\\left(q_{1} \\right)} \\sin{\\left(q_{2} - q_{3} \\right)} \\cos{\\left(q_{4} \\right)} + \\sin{\\left(q_{4} \\right)} \\cos{\\left(q_{1} \\right)}\\right) \\sin{\\left(q_{5} \\right)} + \\sin{\\left(q_{1} \\right)} \\cos{\\left(q_{5} \\right)} \\cos{\\left(q_{2} - q_{3} \\right)} & 760 \\sin{\\left(q_{1} \\right)} \\sin{\\left(q_{2} \\right)} - 89 \\sin{\\left(q_{1} \\right)} \\sin{\\left(q_{4} \\right)} \\sin{\\left(q_{6} \\right)} \\sin{\\left(q_{2} - q_{3} \\right)} + 440 \\sin{\\left(q_{1} \\right)} \\sin{\\left(q_{5} \\right)} \\sin{\\left(q_{2} - q_{3} \\right)} \\cos{\\left(q_{4} \\right)} - 89 \\sin{\\left(q_{1} \\right)} \\sin{\\left(q_{5} \\right)} \\cos{\\left(q_{6} \\right)} \\cos{\\left(q_{2} - q_{3} \\right)} + 89 \\sin{\\left(q_{1} \\right)} \\sin{\\left(q_{2} - q_{3} \\right)} \\cos{\\left(q_{4} \\right)} \\cos{\\left(q_{5} \\right)} \\cos{\\left(q_{6} \\right)} + 200 \\sin{\\left(q_{1} \\right)} \\sin{\\left(q_{2} - q_{3} \\right)} + 440 \\sin{\\left(q_{1} \\right)} \\cos{\\left(q_{5} \\right)} \\cos{\\left(q_{2} - q_{3} \\right)} + 1082 \\sin{\\left(q_{1} \\right)} \\cos{\\left(q_{2} - q_{3} \\right)} + 150 \\sin{\\left(q_{1} \\right)} + 440 \\sin{\\left(q_{4} \\right)} \\sin{\\left(q_{5} \\right)} \\cos{\\left(q_{1} \\right)} + 89 \\sin{\\left(q_{4} \\right)} \\cos{\\left(q_{1} \\right)} \\cos{\\left(q_{5} \\right)} \\cos{\\left(q_{6} \\right)} + 89 \\sin{\\left(q_{6} \\right)} \\cos{\\left(q_{1} \\right)} \\cos{\\left(q_{4} \\right)}\\\\- \\left(\\sin{\\left(q_{5} \\right)} \\sin{\\left(q_{2} - q_{3} \\right)} + \\cos{\\left(q_{4} \\right)} \\cos{\\left(q_{5} \\right)} \\cos{\\left(q_{2} - q_{3} \\right)}\\right) \\cos{\\left(q_{6} \\right)} + \\sin{\\left(q_{4} \\right)} \\sin{\\left(q_{6} \\right)} \\cos{\\left(q_{2} - q_{3} \\right)} & - \\left(\\sin{\\left(q_{5} \\right)} \\sin{\\left(q_{2} - q_{3} \\right)} + \\cos{\\left(q_{4} \\right)} \\cos{\\left(q_{5} \\right)} \\cos{\\left(q_{2} - q_{3} \\right)}\\right) \\sin{\\left(q_{6} \\right)} - \\sin{\\left(q_{4} \\right)} \\cos{\\left(q_{6} \\right)} \\cos{\\left(q_{2} - q_{3} \\right)} & \\sin{\\left(q_{5} \\right)} \\cos{\\left(q_{4} \\right)} \\cos{\\left(q_{2} - q_{3} \\right)} - \\sin{\\left(q_{2} - q_{3} \\right)} \\cos{\\left(q_{5} \\right)} & - 89 \\sin{\\left(q_{4} \\right)} \\sin{\\left(q_{6} \\right)} \\cos{\\left(q_{2} - q_{3} \\right)} + 89 \\sin{\\left(q_{5} \\right)} \\sin{\\left(q_{2} - q_{3} \\right)} \\cos{\\left(q_{6} \\right)} + 440 \\sin{\\left(q_{5} \\right)} \\cos{\\left(q_{4} \\right)} \\cos{\\left(q_{2} - q_{3} \\right)} - 440 \\sin{\\left(q_{2} - q_{3} \\right)} \\cos{\\left(q_{5} \\right)} - 1082 \\sin{\\left(q_{2} - q_{3} \\right)} + 760 \\cos{\\left(q_{2} \\right)} + 89 \\cos{\\left(q_{4} \\right)} \\cos{\\left(q_{5} \\right)} \\cos{\\left(q_{6} \\right)} \\cos{\\left(q_{2} - q_{3} \\right)} + 200 \\cos{\\left(q_{2} - q_{3} \\right)}\\\\0 & 0 & 0 & 1\\end{matrix}\\right]$"
      ],
      "text/plain": [
       "Matrix([\n",
       "[ ((sin(q1)*sin(q4) - sin(q2 - q3)*cos(q1)*cos(q4))*cos(q5) + sin(q5)*cos(q1)*cos(q2 - q3))*cos(q6) + (sin(q1)*cos(q4) + sin(q4)*sin(q2 - q3)*cos(q1))*sin(q6),  ((sin(q1)*sin(q4) - sin(q2 - q3)*cos(q1)*cos(q4))*cos(q5) + sin(q5)*cos(q1)*cos(q2 - q3))*sin(q6) - (sin(q1)*cos(q4) + sin(q4)*sin(q2 - q3)*cos(q1))*cos(q6), (-sin(q1)*sin(q4) + sin(q2 - q3)*cos(q1)*cos(q4))*sin(q5) + cos(q1)*cos(q5)*cos(q2 - q3), -440*sin(q1)*sin(q4)*sin(q5) - 89*sin(q1)*sin(q4)*cos(q5)*cos(q6) - 89*sin(q1)*sin(q6)*cos(q4) + 760*sin(q2)*cos(q1) - 89*sin(q4)*sin(q6)*sin(q2 - q3)*cos(q1) + 440*sin(q5)*sin(q2 - q3)*cos(q1)*cos(q4) - 89*sin(q5)*cos(q1)*cos(q6)*cos(q2 - q3) + 89*sin(q2 - q3)*cos(q1)*cos(q4)*cos(q5)*cos(q6) + 200*sin(q2 - q3)*cos(q1) + 440*cos(q1)*cos(q5)*cos(q2 - q3) + 1082*cos(q1)*cos(q2 - q3) + 150*cos(q1)],\n",
       "[-((sin(q1)*sin(q2 - q3)*cos(q4) + sin(q4)*cos(q1))*cos(q5) - sin(q1)*sin(q5)*cos(q2 - q3))*cos(q6) + (sin(q1)*sin(q4)*sin(q2 - q3) - cos(q1)*cos(q4))*sin(q6), -((sin(q1)*sin(q2 - q3)*cos(q4) + sin(q4)*cos(q1))*cos(q5) - sin(q1)*sin(q5)*cos(q2 - q3))*sin(q6) - (sin(q1)*sin(q4)*sin(q2 - q3) - cos(q1)*cos(q4))*cos(q6),  (sin(q1)*sin(q2 - q3)*cos(q4) + sin(q4)*cos(q1))*sin(q5) + sin(q1)*cos(q5)*cos(q2 - q3),  760*sin(q1)*sin(q2) - 89*sin(q1)*sin(q4)*sin(q6)*sin(q2 - q3) + 440*sin(q1)*sin(q5)*sin(q2 - q3)*cos(q4) - 89*sin(q1)*sin(q5)*cos(q6)*cos(q2 - q3) + 89*sin(q1)*sin(q2 - q3)*cos(q4)*cos(q5)*cos(q6) + 200*sin(q1)*sin(q2 - q3) + 440*sin(q1)*cos(q5)*cos(q2 - q3) + 1082*sin(q1)*cos(q2 - q3) + 150*sin(q1) + 440*sin(q4)*sin(q5)*cos(q1) + 89*sin(q4)*cos(q1)*cos(q5)*cos(q6) + 89*sin(q6)*cos(q1)*cos(q4)],\n",
       "[                                                                -(sin(q5)*sin(q2 - q3) + cos(q4)*cos(q5)*cos(q2 - q3))*cos(q6) + sin(q4)*sin(q6)*cos(q2 - q3),                                                                 -(sin(q5)*sin(q2 - q3) + cos(q4)*cos(q5)*cos(q2 - q3))*sin(q6) - sin(q4)*cos(q6)*cos(q2 - q3),                                      sin(q5)*cos(q4)*cos(q2 - q3) - sin(q2 - q3)*cos(q5),                                                                                                                                                                               -89*sin(q4)*sin(q6)*cos(q2 - q3) + 89*sin(q5)*sin(q2 - q3)*cos(q6) + 440*sin(q5)*cos(q4)*cos(q2 - q3) - 440*sin(q2 - q3)*cos(q5) - 1082*sin(q2 - q3) + 760*cos(q2) + 89*cos(q4)*cos(q5)*cos(q6)*cos(q2 - q3) + 200*cos(q2 - q3)],\n",
       "[                                                                                                                                                            0,                                                                                                                                                             0,                                                                                        0,                                                                                                                                                                                                                                                                                                                                                                                                             1]])"
      ]
     },
     "execution_count": 11,
     "metadata": {},
     "output_type": "execute_result"
    }
   ],
   "source": [
    "Ti = sympy.simplify(join1 * join2 * join3 * join4 * join5 * join6 * join7)\n",
    "Ti"
   ]
  },
  {
   "cell_type": "code",
   "execution_count": 12,
   "metadata": {},
   "outputs": [
    {
     "data": {
      "text/latex": [
       "$\\displaystyle \\left[\\begin{matrix}1 & 0 & 0 & - 440 \\sin{\\left(q_{1} \\right)} \\sin{\\left(q_{4} \\right)} \\sin{\\left(q_{5} \\right)} - 89 \\sin{\\left(q_{1} \\right)} \\sin{\\left(q_{4} \\right)} \\cos{\\left(q_{5} \\right)} \\cos{\\left(q_{6} \\right)} - 89 \\sin{\\left(q_{1} \\right)} \\sin{\\left(q_{6} \\right)} \\cos{\\left(q_{4} \\right)} + 760 \\sin{\\left(q_{2} \\right)} \\cos{\\left(q_{1} \\right)} - 89 \\sin{\\left(q_{4} \\right)} \\sin{\\left(q_{6} \\right)} \\sin{\\left(q_{2} - q_{3} \\right)} \\cos{\\left(q_{1} \\right)} + 440 \\sin{\\left(q_{5} \\right)} \\sin{\\left(q_{2} - q_{3} \\right)} \\cos{\\left(q_{1} \\right)} \\cos{\\left(q_{4} \\right)} - 89 \\sin{\\left(q_{5} \\right)} \\cos{\\left(q_{1} \\right)} \\cos{\\left(q_{6} \\right)} \\cos{\\left(q_{2} - q_{3} \\right)} + 89 \\sin{\\left(q_{2} - q_{3} \\right)} \\cos{\\left(q_{1} \\right)} \\cos{\\left(q_{4} \\right)} \\cos{\\left(q_{5} \\right)} \\cos{\\left(q_{6} \\right)} + 200 \\sin{\\left(q_{2} - q_{3} \\right)} \\cos{\\left(q_{1} \\right)} + 440 \\cos{\\left(q_{1} \\right)} \\cos{\\left(q_{5} \\right)} \\cos{\\left(q_{2} - q_{3} \\right)} + 1082 \\cos{\\left(q_{1} \\right)} \\cos{\\left(q_{2} - q_{3} \\right)} + 150 \\cos{\\left(q_{1} \\right)}\\\\0 & 1 & 0 & 760 \\sin{\\left(q_{1} \\right)} \\sin{\\left(q_{2} \\right)} - 89 \\sin{\\left(q_{1} \\right)} \\sin{\\left(q_{4} \\right)} \\sin{\\left(q_{6} \\right)} \\sin{\\left(q_{2} - q_{3} \\right)} + 440 \\sin{\\left(q_{1} \\right)} \\sin{\\left(q_{5} \\right)} \\sin{\\left(q_{2} - q_{3} \\right)} \\cos{\\left(q_{4} \\right)} - 89 \\sin{\\left(q_{1} \\right)} \\sin{\\left(q_{5} \\right)} \\cos{\\left(q_{6} \\right)} \\cos{\\left(q_{2} - q_{3} \\right)} + 89 \\sin{\\left(q_{1} \\right)} \\sin{\\left(q_{2} - q_{3} \\right)} \\cos{\\left(q_{4} \\right)} \\cos{\\left(q_{5} \\right)} \\cos{\\left(q_{6} \\right)} + 200 \\sin{\\left(q_{1} \\right)} \\sin{\\left(q_{2} - q_{3} \\right)} + 440 \\sin{\\left(q_{1} \\right)} \\cos{\\left(q_{5} \\right)} \\cos{\\left(q_{2} - q_{3} \\right)} + 1082 \\sin{\\left(q_{1} \\right)} \\cos{\\left(q_{2} - q_{3} \\right)} + 150 \\sin{\\left(q_{1} \\right)} + 440 \\sin{\\left(q_{4} \\right)} \\sin{\\left(q_{5} \\right)} \\cos{\\left(q_{1} \\right)} + 89 \\sin{\\left(q_{4} \\right)} \\cos{\\left(q_{1} \\right)} \\cos{\\left(q_{5} \\right)} \\cos{\\left(q_{6} \\right)} + 89 \\sin{\\left(q_{6} \\right)} \\cos{\\left(q_{1} \\right)} \\cos{\\left(q_{4} \\right)}\\\\0 & 0 & 1 & - 89 \\sin{\\left(q_{4} \\right)} \\sin{\\left(q_{6} \\right)} \\cos{\\left(q_{2} - q_{3} \\right)} + 89 \\sin{\\left(q_{5} \\right)} \\sin{\\left(q_{2} - q_{3} \\right)} \\cos{\\left(q_{6} \\right)} + 440 \\sin{\\left(q_{5} \\right)} \\cos{\\left(q_{4} \\right)} \\cos{\\left(q_{2} - q_{3} \\right)} - 440 \\sin{\\left(q_{2} - q_{3} \\right)} \\cos{\\left(q_{5} \\right)} - 1082 \\sin{\\left(q_{2} - q_{3} \\right)} + 760 \\cos{\\left(q_{2} \\right)} + 89 \\cos{\\left(q_{4} \\right)} \\cos{\\left(q_{5} \\right)} \\cos{\\left(q_{6} \\right)} \\cos{\\left(q_{2} - q_{3} \\right)} + 200 \\cos{\\left(q_{2} - q_{3} \\right)}\\\\0 & 0 & 0 & 1\\end{matrix}\\right]$"
      ],
      "text/plain": [
       "Matrix([\n",
       "[1, 0, 0, -440*sin(q1)*sin(q4)*sin(q5) - 89*sin(q1)*sin(q4)*cos(q5)*cos(q6) - 89*sin(q1)*sin(q6)*cos(q4) + 760*sin(q2)*cos(q1) - 89*sin(q4)*sin(q6)*sin(q2 - q3)*cos(q1) + 440*sin(q5)*sin(q2 - q3)*cos(q1)*cos(q4) - 89*sin(q5)*cos(q1)*cos(q6)*cos(q2 - q3) + 89*sin(q2 - q3)*cos(q1)*cos(q4)*cos(q5)*cos(q6) + 200*sin(q2 - q3)*cos(q1) + 440*cos(q1)*cos(q5)*cos(q2 - q3) + 1082*cos(q1)*cos(q2 - q3) + 150*cos(q1)],\n",
       "[0, 1, 0,  760*sin(q1)*sin(q2) - 89*sin(q1)*sin(q4)*sin(q6)*sin(q2 - q3) + 440*sin(q1)*sin(q5)*sin(q2 - q3)*cos(q4) - 89*sin(q1)*sin(q5)*cos(q6)*cos(q2 - q3) + 89*sin(q1)*sin(q2 - q3)*cos(q4)*cos(q5)*cos(q6) + 200*sin(q1)*sin(q2 - q3) + 440*sin(q1)*cos(q5)*cos(q2 - q3) + 1082*sin(q1)*cos(q2 - q3) + 150*sin(q1) + 440*sin(q4)*sin(q5)*cos(q1) + 89*sin(q4)*cos(q1)*cos(q5)*cos(q6) + 89*sin(q6)*cos(q1)*cos(q4)],\n",
       "[0, 0, 1,                                                                                                                                                                               -89*sin(q4)*sin(q6)*cos(q2 - q3) + 89*sin(q5)*sin(q2 - q3)*cos(q6) + 440*sin(q5)*cos(q4)*cos(q2 - q3) - 440*sin(q2 - q3)*cos(q5) - 1082*sin(q2 - q3) + 760*cos(q2) + 89*cos(q4)*cos(q5)*cos(q6)*cos(q2 - q3) + 200*cos(q2 - q3)],\n",
       "[0, 0, 0,                                                                                                                                                                                                                                                                                                                                                                                                             1]])"
      ]
     },
     "execution_count": 12,
     "metadata": {},
     "output_type": "execute_result"
    }
   ],
   "source": [
    "# Simplificamos la matriz para ocuparnos únicamente de las posiciones\n",
    "T = matrixFromPose([Ti[3], Ti[7], Ti[11], 0, 0, 0])\n",
    "T = sympy.simplify(T)\n",
    "T"
   ]
  },
  {
   "cell_type": "code",
   "execution_count": 13,
   "metadata": {},
   "outputs": [
    {
     "data": {
      "text/latex": [
       "$\\displaystyle \\left[\\begin{matrix}- 440 \\sin{\\left(q_{1} \\right)} \\sin{\\left(q_{4} \\right)} \\sin{\\left(q_{5} \\right)} - 89 \\sin{\\left(q_{1} \\right)} \\sin{\\left(q_{4} \\right)} \\cos{\\left(q_{5} \\right)} \\cos{\\left(q_{6} \\right)} - 89 \\sin{\\left(q_{1} \\right)} \\sin{\\left(q_{6} \\right)} \\cos{\\left(q_{4} \\right)} + 760 \\sin{\\left(q_{2} \\right)} \\cos{\\left(q_{1} \\right)} - 89 \\sin{\\left(q_{4} \\right)} \\sin{\\left(q_{6} \\right)} \\sin{\\left(q_{2} - q_{3} \\right)} \\cos{\\left(q_{1} \\right)} + 440 \\sin{\\left(q_{5} \\right)} \\sin{\\left(q_{2} - q_{3} \\right)} \\cos{\\left(q_{1} \\right)} \\cos{\\left(q_{4} \\right)} - 89 \\sin{\\left(q_{5} \\right)} \\cos{\\left(q_{1} \\right)} \\cos{\\left(q_{6} \\right)} \\cos{\\left(q_{2} - q_{3} \\right)} + 89 \\sin{\\left(q_{2} - q_{3} \\right)} \\cos{\\left(q_{1} \\right)} \\cos{\\left(q_{4} \\right)} \\cos{\\left(q_{5} \\right)} \\cos{\\left(q_{6} \\right)} + 200 \\sin{\\left(q_{2} - q_{3} \\right)} \\cos{\\left(q_{1} \\right)} + 440 \\cos{\\left(q_{1} \\right)} \\cos{\\left(q_{5} \\right)} \\cos{\\left(q_{2} - q_{3} \\right)} + 1082 \\cos{\\left(q_{1} \\right)} \\cos{\\left(q_{2} - q_{3} \\right)} + 150 \\cos{\\left(q_{1} \\right)}\\\\760 \\sin{\\left(q_{1} \\right)} \\sin{\\left(q_{2} \\right)} - 89 \\sin{\\left(q_{1} \\right)} \\sin{\\left(q_{4} \\right)} \\sin{\\left(q_{6} \\right)} \\sin{\\left(q_{2} - q_{3} \\right)} + 440 \\sin{\\left(q_{1} \\right)} \\sin{\\left(q_{5} \\right)} \\sin{\\left(q_{2} - q_{3} \\right)} \\cos{\\left(q_{4} \\right)} - 89 \\sin{\\left(q_{1} \\right)} \\sin{\\left(q_{5} \\right)} \\cos{\\left(q_{6} \\right)} \\cos{\\left(q_{2} - q_{3} \\right)} + 89 \\sin{\\left(q_{1} \\right)} \\sin{\\left(q_{2} - q_{3} \\right)} \\cos{\\left(q_{4} \\right)} \\cos{\\left(q_{5} \\right)} \\cos{\\left(q_{6} \\right)} + 200 \\sin{\\left(q_{1} \\right)} \\sin{\\left(q_{2} - q_{3} \\right)} + 440 \\sin{\\left(q_{1} \\right)} \\cos{\\left(q_{5} \\right)} \\cos{\\left(q_{2} - q_{3} \\right)} + 1082 \\sin{\\left(q_{1} \\right)} \\cos{\\left(q_{2} - q_{3} \\right)} + 150 \\sin{\\left(q_{1} \\right)} + 440 \\sin{\\left(q_{4} \\right)} \\sin{\\left(q_{5} \\right)} \\cos{\\left(q_{1} \\right)} + 89 \\sin{\\left(q_{4} \\right)} \\cos{\\left(q_{1} \\right)} \\cos{\\left(q_{5} \\right)} \\cos{\\left(q_{6} \\right)} + 89 \\sin{\\left(q_{6} \\right)} \\cos{\\left(q_{1} \\right)} \\cos{\\left(q_{4} \\right)}\\\\- 89 \\sin{\\left(q_{4} \\right)} \\sin{\\left(q_{6} \\right)} \\cos{\\left(q_{2} - q_{3} \\right)} + 89 \\sin{\\left(q_{5} \\right)} \\sin{\\left(q_{2} - q_{3} \\right)} \\cos{\\left(q_{6} \\right)} + 440 \\sin{\\left(q_{5} \\right)} \\cos{\\left(q_{4} \\right)} \\cos{\\left(q_{2} - q_{3} \\right)} - 440 \\sin{\\left(q_{2} - q_{3} \\right)} \\cos{\\left(q_{5} \\right)} - 1082 \\sin{\\left(q_{2} - q_{3} \\right)} + 760 \\cos{\\left(q_{2} \\right)} + 89 \\cos{\\left(q_{4} \\right)} \\cos{\\left(q_{5} \\right)} \\cos{\\left(q_{6} \\right)} \\cos{\\left(q_{2} - q_{3} \\right)} + 200 \\cos{\\left(q_{2} - q_{3} \\right)}\\end{matrix}\\right]$"
      ],
      "text/plain": [
       "Matrix([\n",
       "[-440*sin(q1)*sin(q4)*sin(q5) - 89*sin(q1)*sin(q4)*cos(q5)*cos(q6) - 89*sin(q1)*sin(q6)*cos(q4) + 760*sin(q2)*cos(q1) - 89*sin(q4)*sin(q6)*sin(q2 - q3)*cos(q1) + 440*sin(q5)*sin(q2 - q3)*cos(q1)*cos(q4) - 89*sin(q5)*cos(q1)*cos(q6)*cos(q2 - q3) + 89*sin(q2 - q3)*cos(q1)*cos(q4)*cos(q5)*cos(q6) + 200*sin(q2 - q3)*cos(q1) + 440*cos(q1)*cos(q5)*cos(q2 - q3) + 1082*cos(q1)*cos(q2 - q3) + 150*cos(q1)],\n",
       "[ 760*sin(q1)*sin(q2) - 89*sin(q1)*sin(q4)*sin(q6)*sin(q2 - q3) + 440*sin(q1)*sin(q5)*sin(q2 - q3)*cos(q4) - 89*sin(q1)*sin(q5)*cos(q6)*cos(q2 - q3) + 89*sin(q1)*sin(q2 - q3)*cos(q4)*cos(q5)*cos(q6) + 200*sin(q1)*sin(q2 - q3) + 440*sin(q1)*cos(q5)*cos(q2 - q3) + 1082*sin(q1)*cos(q2 - q3) + 150*sin(q1) + 440*sin(q4)*sin(q5)*cos(q1) + 89*sin(q4)*cos(q1)*cos(q5)*cos(q6) + 89*sin(q6)*cos(q1)*cos(q4)],\n",
       "[                                                                                                                                                                              -89*sin(q4)*sin(q6)*cos(q2 - q3) + 89*sin(q5)*sin(q2 - q3)*cos(q6) + 440*sin(q5)*cos(q4)*cos(q2 - q3) - 440*sin(q2 - q3)*cos(q5) - 1082*sin(q2 - q3) + 760*cos(q2) + 89*cos(q4)*cos(q5)*cos(q6)*cos(q2 - q3) + 200*cos(q2 - q3)]])"
      ]
     },
     "execution_count": 13,
     "metadata": {},
     "output_type": "execute_result"
    }
   ],
   "source": [
    "# Obtenemos las ecuaciones\n",
    "equations = T[:3,3]\n",
    "equations"
   ]
  },
  {
   "attachments": {},
   "cell_type": "markdown",
   "metadata": {},
   "source": [
    "*****\n",
    "\n",
    "##### **<center><span style=\"color:blue\">Derivadas parciales</span></center>**\n",
    "*****"
   ]
  },
  {
   "cell_type": "code",
   "execution_count": 14,
   "metadata": {},
   "outputs": [
    {
     "data": {
      "text/latex": [
       "$\\displaystyle \\left[\\begin{matrix}- 760 \\sin{\\left(q_{1} \\right)} \\sin{\\left(q_{2} \\right)} + 89 \\sin{\\left(q_{1} \\right)} \\sin{\\left(q_{4} \\right)} \\sin{\\left(q_{6} \\right)} \\sin{\\left(q_{2} - q_{3} \\right)} - 440 \\sin{\\left(q_{1} \\right)} \\sin{\\left(q_{5} \\right)} \\sin{\\left(q_{2} - q_{3} \\right)} \\cos{\\left(q_{4} \\right)} + 89 \\sin{\\left(q_{1} \\right)} \\sin{\\left(q_{5} \\right)} \\cos{\\left(q_{6} \\right)} \\cos{\\left(q_{2} - q_{3} \\right)} - 89 \\sin{\\left(q_{1} \\right)} \\sin{\\left(q_{2} - q_{3} \\right)} \\cos{\\left(q_{4} \\right)} \\cos{\\left(q_{5} \\right)} \\cos{\\left(q_{6} \\right)} - 200 \\sin{\\left(q_{1} \\right)} \\sin{\\left(q_{2} - q_{3} \\right)} - 440 \\sin{\\left(q_{1} \\right)} \\cos{\\left(q_{5} \\right)} \\cos{\\left(q_{2} - q_{3} \\right)} - 1082 \\sin{\\left(q_{1} \\right)} \\cos{\\left(q_{2} - q_{3} \\right)} - 150 \\sin{\\left(q_{1} \\right)} - 440 \\sin{\\left(q_{4} \\right)} \\sin{\\left(q_{5} \\right)} \\cos{\\left(q_{1} \\right)} - 89 \\sin{\\left(q_{4} \\right)} \\cos{\\left(q_{1} \\right)} \\cos{\\left(q_{5} \\right)} \\cos{\\left(q_{6} \\right)} - 89 \\sin{\\left(q_{6} \\right)} \\cos{\\left(q_{1} \\right)} \\cos{\\left(q_{4} \\right)} & - 89 \\sin{\\left(q_{4} \\right)} \\sin{\\left(q_{6} \\right)} \\cos{\\left(q_{1} \\right)} \\cos{\\left(q_{2} - q_{3} \\right)} + 89 \\sin{\\left(q_{5} \\right)} \\sin{\\left(q_{2} - q_{3} \\right)} \\cos{\\left(q_{1} \\right)} \\cos{\\left(q_{6} \\right)} + 440 \\sin{\\left(q_{5} \\right)} \\cos{\\left(q_{1} \\right)} \\cos{\\left(q_{4} \\right)} \\cos{\\left(q_{2} - q_{3} \\right)} - 440 \\sin{\\left(q_{2} - q_{3} \\right)} \\cos{\\left(q_{1} \\right)} \\cos{\\left(q_{5} \\right)} - 1082 \\sin{\\left(q_{2} - q_{3} \\right)} \\cos{\\left(q_{1} \\right)} + 760 \\cos{\\left(q_{1} \\right)} \\cos{\\left(q_{2} \\right)} + 89 \\cos{\\left(q_{1} \\right)} \\cos{\\left(q_{4} \\right)} \\cos{\\left(q_{5} \\right)} \\cos{\\left(q_{6} \\right)} \\cos{\\left(q_{2} - q_{3} \\right)} + 200 \\cos{\\left(q_{1} \\right)} \\cos{\\left(q_{2} - q_{3} \\right)} & 89 \\sin{\\left(q_{4} \\right)} \\sin{\\left(q_{6} \\right)} \\cos{\\left(q_{1} \\right)} \\cos{\\left(q_{2} - q_{3} \\right)} - 89 \\sin{\\left(q_{5} \\right)} \\sin{\\left(q_{2} - q_{3} \\right)} \\cos{\\left(q_{1} \\right)} \\cos{\\left(q_{6} \\right)} - 440 \\sin{\\left(q_{5} \\right)} \\cos{\\left(q_{1} \\right)} \\cos{\\left(q_{4} \\right)} \\cos{\\left(q_{2} - q_{3} \\right)} + 440 \\sin{\\left(q_{2} - q_{3} \\right)} \\cos{\\left(q_{1} \\right)} \\cos{\\left(q_{5} \\right)} + 1082 \\sin{\\left(q_{2} - q_{3} \\right)} \\cos{\\left(q_{1} \\right)} - 89 \\cos{\\left(q_{1} \\right)} \\cos{\\left(q_{4} \\right)} \\cos{\\left(q_{5} \\right)} \\cos{\\left(q_{6} \\right)} \\cos{\\left(q_{2} - q_{3} \\right)} - 200 \\cos{\\left(q_{1} \\right)} \\cos{\\left(q_{2} - q_{3} \\right)}\\\\- 440 \\sin{\\left(q_{1} \\right)} \\sin{\\left(q_{4} \\right)} \\sin{\\left(q_{5} \\right)} - 89 \\sin{\\left(q_{1} \\right)} \\sin{\\left(q_{4} \\right)} \\cos{\\left(q_{5} \\right)} \\cos{\\left(q_{6} \\right)} - 89 \\sin{\\left(q_{1} \\right)} \\sin{\\left(q_{6} \\right)} \\cos{\\left(q_{4} \\right)} + 760 \\sin{\\left(q_{2} \\right)} \\cos{\\left(q_{1} \\right)} - 89 \\sin{\\left(q_{4} \\right)} \\sin{\\left(q_{6} \\right)} \\sin{\\left(q_{2} - q_{3} \\right)} \\cos{\\left(q_{1} \\right)} + 440 \\sin{\\left(q_{5} \\right)} \\sin{\\left(q_{2} - q_{3} \\right)} \\cos{\\left(q_{1} \\right)} \\cos{\\left(q_{4} \\right)} - 89 \\sin{\\left(q_{5} \\right)} \\cos{\\left(q_{1} \\right)} \\cos{\\left(q_{6} \\right)} \\cos{\\left(q_{2} - q_{3} \\right)} + 89 \\sin{\\left(q_{2} - q_{3} \\right)} \\cos{\\left(q_{1} \\right)} \\cos{\\left(q_{4} \\right)} \\cos{\\left(q_{5} \\right)} \\cos{\\left(q_{6} \\right)} + 200 \\sin{\\left(q_{2} - q_{3} \\right)} \\cos{\\left(q_{1} \\right)} + 440 \\cos{\\left(q_{1} \\right)} \\cos{\\left(q_{5} \\right)} \\cos{\\left(q_{2} - q_{3} \\right)} + 1082 \\cos{\\left(q_{1} \\right)} \\cos{\\left(q_{2} - q_{3} \\right)} + 150 \\cos{\\left(q_{1} \\right)} & - 89 \\sin{\\left(q_{1} \\right)} \\sin{\\left(q_{4} \\right)} \\sin{\\left(q_{6} \\right)} \\cos{\\left(q_{2} - q_{3} \\right)} + 89 \\sin{\\left(q_{1} \\right)} \\sin{\\left(q_{5} \\right)} \\sin{\\left(q_{2} - q_{3} \\right)} \\cos{\\left(q_{6} \\right)} + 440 \\sin{\\left(q_{1} \\right)} \\sin{\\left(q_{5} \\right)} \\cos{\\left(q_{4} \\right)} \\cos{\\left(q_{2} - q_{3} \\right)} - 440 \\sin{\\left(q_{1} \\right)} \\sin{\\left(q_{2} - q_{3} \\right)} \\cos{\\left(q_{5} \\right)} - 1082 \\sin{\\left(q_{1} \\right)} \\sin{\\left(q_{2} - q_{3} \\right)} + 760 \\sin{\\left(q_{1} \\right)} \\cos{\\left(q_{2} \\right)} + 89 \\sin{\\left(q_{1} \\right)} \\cos{\\left(q_{4} \\right)} \\cos{\\left(q_{5} \\right)} \\cos{\\left(q_{6} \\right)} \\cos{\\left(q_{2} - q_{3} \\right)} + 200 \\sin{\\left(q_{1} \\right)} \\cos{\\left(q_{2} - q_{3} \\right)} & 89 \\sin{\\left(q_{1} \\right)} \\sin{\\left(q_{4} \\right)} \\sin{\\left(q_{6} \\right)} \\cos{\\left(q_{2} - q_{3} \\right)} - 89 \\sin{\\left(q_{1} \\right)} \\sin{\\left(q_{5} \\right)} \\sin{\\left(q_{2} - q_{3} \\right)} \\cos{\\left(q_{6} \\right)} - 440 \\sin{\\left(q_{1} \\right)} \\sin{\\left(q_{5} \\right)} \\cos{\\left(q_{4} \\right)} \\cos{\\left(q_{2} - q_{3} \\right)} + 440 \\sin{\\left(q_{1} \\right)} \\sin{\\left(q_{2} - q_{3} \\right)} \\cos{\\left(q_{5} \\right)} + 1082 \\sin{\\left(q_{1} \\right)} \\sin{\\left(q_{2} - q_{3} \\right)} - 89 \\sin{\\left(q_{1} \\right)} \\cos{\\left(q_{4} \\right)} \\cos{\\left(q_{5} \\right)} \\cos{\\left(q_{6} \\right)} \\cos{\\left(q_{2} - q_{3} \\right)} - 200 \\sin{\\left(q_{1} \\right)} \\cos{\\left(q_{2} - q_{3} \\right)}\\\\0 & - 760 \\sin{\\left(q_{2} \\right)} + 89 \\sin{\\left(q_{4} \\right)} \\sin{\\left(q_{6} \\right)} \\sin{\\left(q_{2} - q_{3} \\right)} - 440 \\sin{\\left(q_{5} \\right)} \\sin{\\left(q_{2} - q_{3} \\right)} \\cos{\\left(q_{4} \\right)} + 89 \\sin{\\left(q_{5} \\right)} \\cos{\\left(q_{6} \\right)} \\cos{\\left(q_{2} - q_{3} \\right)} - 89 \\sin{\\left(q_{2} - q_{3} \\right)} \\cos{\\left(q_{4} \\right)} \\cos{\\left(q_{5} \\right)} \\cos{\\left(q_{6} \\right)} - 200 \\sin{\\left(q_{2} - q_{3} \\right)} - 440 \\cos{\\left(q_{5} \\right)} \\cos{\\left(q_{2} - q_{3} \\right)} - 1082 \\cos{\\left(q_{2} - q_{3} \\right)} & - 89 \\sin{\\left(q_{4} \\right)} \\sin{\\left(q_{6} \\right)} \\sin{\\left(q_{2} - q_{3} \\right)} + 440 \\sin{\\left(q_{5} \\right)} \\sin{\\left(q_{2} - q_{3} \\right)} \\cos{\\left(q_{4} \\right)} - 89 \\sin{\\left(q_{5} \\right)} \\cos{\\left(q_{6} \\right)} \\cos{\\left(q_{2} - q_{3} \\right)} + 89 \\sin{\\left(q_{2} - q_{3} \\right)} \\cos{\\left(q_{4} \\right)} \\cos{\\left(q_{5} \\right)} \\cos{\\left(q_{6} \\right)} + 200 \\sin{\\left(q_{2} - q_{3} \\right)} + 440 \\cos{\\left(q_{5} \\right)} \\cos{\\left(q_{2} - q_{3} \\right)} + 1082 \\cos{\\left(q_{2} - q_{3} \\right)}\\end{matrix}\\right]$"
      ],
      "text/plain": [
       "Matrix([\n",
       "[-760*sin(q1)*sin(q2) + 89*sin(q1)*sin(q4)*sin(q6)*sin(q2 - q3) - 440*sin(q1)*sin(q5)*sin(q2 - q3)*cos(q4) + 89*sin(q1)*sin(q5)*cos(q6)*cos(q2 - q3) - 89*sin(q1)*sin(q2 - q3)*cos(q4)*cos(q5)*cos(q6) - 200*sin(q1)*sin(q2 - q3) - 440*sin(q1)*cos(q5)*cos(q2 - q3) - 1082*sin(q1)*cos(q2 - q3) - 150*sin(q1) - 440*sin(q4)*sin(q5)*cos(q1) - 89*sin(q4)*cos(q1)*cos(q5)*cos(q6) - 89*sin(q6)*cos(q1)*cos(q4), -89*sin(q4)*sin(q6)*cos(q1)*cos(q2 - q3) + 89*sin(q5)*sin(q2 - q3)*cos(q1)*cos(q6) + 440*sin(q5)*cos(q1)*cos(q4)*cos(q2 - q3) - 440*sin(q2 - q3)*cos(q1)*cos(q5) - 1082*sin(q2 - q3)*cos(q1) + 760*cos(q1)*cos(q2) + 89*cos(q1)*cos(q4)*cos(q5)*cos(q6)*cos(q2 - q3) + 200*cos(q1)*cos(q2 - q3), 89*sin(q4)*sin(q6)*cos(q1)*cos(q2 - q3) - 89*sin(q5)*sin(q2 - q3)*cos(q1)*cos(q6) - 440*sin(q5)*cos(q1)*cos(q4)*cos(q2 - q3) + 440*sin(q2 - q3)*cos(q1)*cos(q5) + 1082*sin(q2 - q3)*cos(q1) - 89*cos(q1)*cos(q4)*cos(q5)*cos(q6)*cos(q2 - q3) - 200*cos(q1)*cos(q2 - q3)],\n",
       "[-440*sin(q1)*sin(q4)*sin(q5) - 89*sin(q1)*sin(q4)*cos(q5)*cos(q6) - 89*sin(q1)*sin(q6)*cos(q4) + 760*sin(q2)*cos(q1) - 89*sin(q4)*sin(q6)*sin(q2 - q3)*cos(q1) + 440*sin(q5)*sin(q2 - q3)*cos(q1)*cos(q4) - 89*sin(q5)*cos(q1)*cos(q6)*cos(q2 - q3) + 89*sin(q2 - q3)*cos(q1)*cos(q4)*cos(q5)*cos(q6) + 200*sin(q2 - q3)*cos(q1) + 440*cos(q1)*cos(q5)*cos(q2 - q3) + 1082*cos(q1)*cos(q2 - q3) + 150*cos(q1), -89*sin(q1)*sin(q4)*sin(q6)*cos(q2 - q3) + 89*sin(q1)*sin(q5)*sin(q2 - q3)*cos(q6) + 440*sin(q1)*sin(q5)*cos(q4)*cos(q2 - q3) - 440*sin(q1)*sin(q2 - q3)*cos(q5) - 1082*sin(q1)*sin(q2 - q3) + 760*sin(q1)*cos(q2) + 89*sin(q1)*cos(q4)*cos(q5)*cos(q6)*cos(q2 - q3) + 200*sin(q1)*cos(q2 - q3), 89*sin(q1)*sin(q4)*sin(q6)*cos(q2 - q3) - 89*sin(q1)*sin(q5)*sin(q2 - q3)*cos(q6) - 440*sin(q1)*sin(q5)*cos(q4)*cos(q2 - q3) + 440*sin(q1)*sin(q2 - q3)*cos(q5) + 1082*sin(q1)*sin(q2 - q3) - 89*sin(q1)*cos(q4)*cos(q5)*cos(q6)*cos(q2 - q3) - 200*sin(q1)*cos(q2 - q3)],\n",
       "[                                                                                                                                                                                                                                                                                                                                                                                                            0,                                                                 -760*sin(q2) + 89*sin(q4)*sin(q6)*sin(q2 - q3) - 440*sin(q5)*sin(q2 - q3)*cos(q4) + 89*sin(q5)*cos(q6)*cos(q2 - q3) - 89*sin(q2 - q3)*cos(q4)*cos(q5)*cos(q6) - 200*sin(q2 - q3) - 440*cos(q5)*cos(q2 - q3) - 1082*cos(q2 - q3),                                                        -89*sin(q4)*sin(q6)*sin(q2 - q3) + 440*sin(q5)*sin(q2 - q3)*cos(q4) - 89*sin(q5)*cos(q6)*cos(q2 - q3) + 89*sin(q2 - q3)*cos(q4)*cos(q5)*cos(q6) + 200*sin(q2 - q3) + 440*cos(q5)*cos(q2 - q3) + 1082*cos(q2 - q3)]])"
      ]
     },
     "execution_count": 14,
     "metadata": {},
     "output_type": "execute_result"
    }
   ],
   "source": [
    "# Obtenemos la funcion Jacobiana\n",
    "jacobian = equations.jacobian([q1, q2, q3])\n",
    "jacobian"
   ]
  },
  {
   "attachments": {},
   "cell_type": "markdown",
   "metadata": {},
   "source": [
    "*****\n",
    "\n",
    "##### **<center><span style=\"color:blue\">Newton Raphson</span></center>**\n",
    "\n",
    "*****"
   ]
  },
  {
   "attachments": {},
   "cell_type": "markdown",
   "metadata": {},
   "source": [
    "**<span style=\"color:blue\">Nata:</span>**<br>\n",
    "- <span style=\"color:gray\">Utilizaremos en método de Newton Raphson para optimizar la posicion inicial de los cordones de soldadura</span><br>"
   ]
  },
  {
   "cell_type": "code",
   "execution_count": 15,
   "metadata": {},
   "outputs": [],
   "source": [
    "# >> Ruta para guardar resultados\n",
    "#\n",
    "newton_path = \"./Output/Newton Raphson\"\n",
    "if not os.path.isdir(newton_path):\n",
    "    os.mkdir(newton_path)\n",
    "newton_file = os.path.join(newton_path, \"Results.txt\")\n",
    "files.write_file(file_path=newton_file, data=[\"punto de partida; alpha; error; fitness; numero de itearcion; tiempo\"], type_mode=\"w\")"
   ]
  },
  {
   "attachments": {},
   "cell_type": "markdown",
   "metadata": {},
   "source": [
    "- <span style=\"color:gray\">Leemos los parametros que se encuentran en el archivo Instancias.dat</span><br>"
   ]
  },
  {
   "cell_type": "code",
   "execution_count": 16,
   "metadata": {},
   "outputs": [],
   "source": [
    "error_ = {}\n",
    "values_angles = {}"
   ]
  },
  {
   "cell_type": "code",
   "execution_count": 17,
   "metadata": {},
   "outputs": [],
   "source": [
    "instance_file = \"./Instancias.dat\""
   ]
  },
  {
   "cell_type": "code",
   "execution_count": 18,
   "metadata": {},
   "outputs": [],
   "source": [
    "inputs_parm = files.readFile(instance_file)\n",
    "parameters_nr = {}\n",
    "for idnex, i in enumerate(inputs_parm):\n",
    "    if i.find(\"#\") != -1:\n",
    "        continue\n",
    "    i = i.replace(\"\\n\", \"\").split(\";\")\n",
    "    points = i[1].replace(\"[\", \"\").replace(\"]\", \"\").replace(\" \", \"\").split(\",\")\n",
    "    points = list(map(lambda x: float(x), points))\n",
    "    parameters_nr[idnex + 1] = {\"initial_point\": points, \"alpha\": float(i[2]), \"iterations\": int(i[3]), \"error\": float(i[-1])}"
   ]
  },
  {
   "cell_type": "code",
   "execution_count": 19,
   "metadata": {},
   "outputs": [
    {
     "data": {
      "text/plain": [
       "{8: {'initial_point': [981.0, 762.2, 425.0],\n",
       "  'alpha': 0.8,\n",
       "  'iterations': 100,\n",
       "  'error': 1e-06},\n",
       " 9: {'initial_point': [768.205, 365.0, 255.0],\n",
       "  'alpha': 0.01,\n",
       "  'iterations': 100,\n",
       "  'error': 1e-06},\n",
       " 10: {'initial_point': [632.0, 552.0, 250.0],\n",
       "  'alpha': 0.001,\n",
       "  'iterations': 100,\n",
       "  'error': 1e-06},\n",
       " 11: {'initial_point': [836.2, 675.0, 422.0],\n",
       "  'alpha': 1.0,\n",
       "  'iterations': 100,\n",
       "  'error': 1e-06},\n",
       " 12: {'initial_point': [735.0, 396.0, 569.0],\n",
       "  'alpha': 0.4,\n",
       "  'iterations': 100,\n",
       "  'error': 1e-06}}"
      ]
     },
     "execution_count": 19,
     "metadata": {},
     "output_type": "execute_result"
    }
   ],
   "source": [
    "parameters_nr"
   ]
  },
  {
   "cell_type": "code",
   "execution_count": 20,
   "metadata": {},
   "outputs": [
    {
     "name": "stdout",
     "output_type": "stream",
     "text": [
      "\u001b[1;94m ---> Iteracion 1\n",
      "\u001b[00m\n",
      "\u001b[1;92m Tiempo de ejeccion\u001b[00m \u001b[1;98m 1\u001b[00m\n",
      "\u001b[1;92m Solucion encontrada:\u001b[00m \u001b[1;98m [37.488104918411565, -33.49736835950307, -45.5442323772393, 0, 0, 175.0]\u001b[00m\n",
      "\u001b[1;92m Error:\u001b[00m \u001b[1;98m 3.2554164592816174e-07\u001b[00m\n",
      "\u001b[1;92m Numero de iteraciones:\u001b[00m \u001b[1;98m 15\u001b[00m\n",
      "\u001b[1;92m Fitness:\u001b[00m \u001b[1;98m 0.9999996744584071\u001b[00m\n",
      "\u001b[1;91m ------------------------------------------------------------------------------\u001b[00m\n",
      "\u001b[1;94m ---> Iteracion 2\n",
      "\u001b[00m\n",
      "\u001b[1;92m Tiempo de ejeccion\u001b[00m \u001b[1;98m 5\u001b[00m\n",
      "\u001b[1;92m Solucion encontrada:\u001b[00m \u001b[1;98m [11.602789095893545, -46.52428071393418, -52.34617597979537, 0, 0, 175.0]\u001b[00m\n",
      "\u001b[1;92m Error:\u001b[00m \u001b[1;98m 425.2688977955659\u001b[00m\n",
      "\u001b[1;92m Numero de iteraciones:\u001b[00m \u001b[1;98m 100\u001b[00m\n",
      "\u001b[1;92m Fitness:\u001b[00m \u001b[1;98m 2.032658227935583e-185\u001b[00m\n",
      "\u001b[1;91m ------------------------------------------------------------------------------\u001b[00m\n",
      "\u001b[1;94m ---> Iteracion 3\n",
      "\u001b[00m\n",
      "\u001b[1;92m Tiempo de ejeccion\u001b[00m \u001b[1;98m 5\u001b[00m\n",
      "\u001b[1;92m Solucion encontrada:\u001b[00m \u001b[1;98m [1.8854575149678807, -7.625737207204746, -9.599977225695355, 0, 0, 175.0]\u001b[00m\n",
      "\u001b[1;92m Error:\u001b[00m \u001b[1;98m 1202.8347388873356\u001b[00m\n",
      "\u001b[1;92m Numero de iteraciones:\u001b[00m \u001b[1;98m 100\u001b[00m\n",
      "\u001b[1;92m Fitness:\u001b[00m \u001b[1;98m 0.0\u001b[00m\n",
      "\u001b[1;91m ------------------------------------------------------------------------------\u001b[00m\n",
      "\u001b[1;94m ---> Iteracion 4\n",
      "\u001b[00m\n"
     ]
    },
    {
     "name": "stderr",
     "output_type": "stream",
     "text": [
      "C:\\Users\\WIA5056\\AppData\\Roaming\\Python\\Python37\\site-packages\\ipykernel_launcher.py:57: RuntimeWarning: overflow encountered in double_scalars\n",
      "C:\\Users\\WIA5056\\AppData\\Roaming\\Python\\Python37\\site-packages\\ipykernel_launcher.py:59: RuntimeWarning: overflow encountered in double_scalars\n"
     ]
    },
    {
     "name": "stdout",
     "output_type": "stream",
     "text": [
      "\u001b[1;92m Tiempo de ejeccion\u001b[00m \u001b[1;98m 0\u001b[00m\n",
      "\u001b[1;92m Solucion encontrada:\u001b[00m \u001b[1;98m [38.49770231354534, -52.239118029092026, -58.05264962916368, 0, 0, 175.0]\u001b[00m\n",
      "\u001b[1;92m Error:\u001b[00m \u001b[1;98m 1.230593408819734e-12\u001b[00m\n",
      "\u001b[1;92m Numero de iteraciones:\u001b[00m \u001b[1;98m 7\u001b[00m\n",
      "\u001b[1;92m Fitness:\u001b[00m \u001b[1;98m 0.9999999999987694\u001b[00m\n",
      "\u001b[1;91m ------------------------------------------------------------------------------\u001b[00m\n",
      "\u001b[1;94m ---> Iteracion 5\n",
      "\u001b[00m\n",
      "\u001b[1;92m Tiempo de ejeccion\u001b[00m \u001b[1;98m 3\u001b[00m\n",
      "\u001b[1;92m Solucion encontrada:\u001b[00m \u001b[1;98m [27.782363842920752, -84.81123727573977, -69.85892515756231, 0, 0, 175.0]\u001b[00m\n",
      "\u001b[1;92m Error:\u001b[00m \u001b[1;98m 6.131200525400855e-07\u001b[00m\n",
      "\u001b[1;92m Numero de iteraciones:\u001b[00m \u001b[1;98m 43\u001b[00m\n",
      "\u001b[1;92m Fitness:\u001b[00m \u001b[1;98m 0.9999993868801353\u001b[00m\n",
      "\u001b[1;91m ------------------------------------------------------------------------------\u001b[00m\n"
     ]
    }
   ],
   "source": [
    "\n",
    "for w, (key_, parameters_) in enumerate(parameters_nr.items()):\n",
    "    print(prLightPurple(f\"---> Iteracion {w + 1}\\n\"))\n",
    "    # >> Posicion inicial del cordon de soldadura\n",
    "    #\n",
    "    #\n",
    "    end_point = parameters_['initial_point']\n",
    "\n",
    "    # Las ecuaciones las convertimos en funciones\n",
    "    fx = sympy.Matrix([equations[0] - end_point[0], equations[1] - end_point[1], equations[2] - end_point[2]])\n",
    "\n",
    "\n",
    "    # >> Angulos de la posicion inical del Robot\n",
    "    #\n",
    "    #\n",
    "    theta_init = np.array([0, 0, 0])\n",
    "    #\n",
    "    #\n",
    "    # >> Parametros de Newton Raphson\n",
    "    error = parameters_['error']\n",
    "    max_iter = parameters_['iterations']\n",
    "    alpha = parameters_['alpha']\n",
    "    current_error = 1\n",
    "    q4_actual, q5_actual, q6_actual = 0, 0, 175 * (np.pi/180)\n",
    "    i = 0\n",
    "    #\n",
    "    error_[alpha] = []\n",
    "\n",
    "    init_time = datetime.datetime.now()\n",
    "    while (error < current_error and i < max_iter):\n",
    "        # >> Evaluamos la funcion y la matriz jacobiana\n",
    "        q1_actual, q2_actual, q3_actual = theta_init\n",
    "        J0 = jacobian.evalf(subs= {q1: q1_actual, q2: q2_actual, q3: q3_actual, q4: q4_actual, q5: q5_actual, q6: q6_actual})\n",
    "        fts = fx.evalf(subs= {q1: q1_actual, q2: q2_actual, q3: q3_actual, q4: q4_actual, q5: q5_actual, q6: q6_actual})\n",
    "        # >> Obtenemos la inversa de la matriz jacobiana\n",
    "        delta = (np.array(J0.inv().tolist()).astype(np.float64) @ np.array(fts.tolist()).astype(np.float64))\n",
    "        # print(delta)\n",
    "        theta_init = theta_init - (np.ravel(delta) * alpha)\n",
    "        current_error = np.linalg.norm(np.array(fts.tolist()).astype(np.float64))\n",
    "        i+=1\n",
    "        solution_ = list(theta_init * (180 / np.pi))\n",
    "        solution_.extend([q4_actual, q5_actual, q6_actual*(180 / np.pi)])\n",
    "        # >> Guardamos los resultados.\n",
    "        #\n",
    "        error_[alpha].append(np.round(current_error, 5))\n",
    "        for index, angle in enumerate(solution_):\n",
    "            _key = f\"theta_{index}\"\n",
    "            if not _key in values_angles:\n",
    "                values_angles[_key] = [np.round(float(angle), 2)]\n",
    "            else:\n",
    "                values_angles[_key].append(np.round(float(angle), 2))\n",
    "    end_time = datetime.datetime.now()\n",
    "\n",
    "    print(prGreen(\"Tiempo de ejeccion\"), prBlack((end_time - init_time).seconds))\n",
    "    print(prGreen(\"Solucion encontrada:\"), prBlack(solution_))\n",
    "    print(prGreen(\"Error:\"), prBlack(current_error))\n",
    "    print(prGreen(\"Numero de iteraciones:\"), prBlack(i))\n",
    "    print(prGreen(\"Fitness:\"), prBlack(1/(np.e**current_error)))\n",
    "    print(prRed(\"------------------------------------------------------------------------------\"))\n",
    "    files.write_file(file_path=newton_file, data=[str(end_point) + \"; \" + str(alpha) + \"; \" + str(current_error) + \"; \" + str(1/(np.e**current_error)) + \"; \" + str(i) + \"; \" + str((end_time - init_time).seconds)], type_mode=\"a\")"
   ]
  },
  {
   "attachments": {},
   "cell_type": "markdown",
   "metadata": {},
   "source": [
    "- <span style=\"color:gray\">Graficar resulatdos</span><br>"
   ]
  },
  {
   "cell_type": "code",
   "execution_count": 21,
   "metadata": {},
   "outputs": [
    {
     "data": {
      "image/png": "[encoded data removed]",
      "text/plain": [
       "<Figure size 640x480 with 1 Axes>"
      ]
     },
     "metadata": {},
     "output_type": "display_data"
    }
   ],
   "source": [
    "for key_, angles in values_angles.items():\n",
    "    plt.plot(angles, label=key_, linestyle=\"-.\", linewidth=1.5)\n",
    "plt.xlabel(\"Iteraciones\") \n",
    "plt.ylabel(r\"$\\theta^{\\circ}$\") \n",
    "plt.legend()\n",
    "plt.legend(loc='upper center', bbox_to_anchor=(0.5, -0.05),\n",
    "          fancybox=True, shadow=True, ncol=5)\n",
    "plt.title(\"Trayectoria del manipulador de 6GLD\")\n",
    "plt.show()"
   ]
  },
  {
   "cell_type": "code",
   "execution_count": 22,
   "metadata": {},
   "outputs": [
    {
     "data": {
      "image/png": "[encoded data removed]",
      "text/plain": [
       "<Figure size 640x480 with 1 Axes>"
      ]
     },
     "metadata": {},
     "output_type": "display_data"
    }
   ],
   "source": [
    "\n",
    "for key_, angles in error_.items():\n",
    "    plt.plot(angles, label=key_, linestyle=\"--\", linewidth=1.5)\n",
    "plt.xlabel(\"Iteraciones\") \n",
    "plt.ylabel(\"Error(mm)\")\n",
    "plt.legend()\n",
    "plt.show()"
   ]
  },
  {
   "attachments": {},
   "cell_type": "markdown",
   "metadata": {},
   "source": [
    "*****\n",
    "<center><span style=\"color:black\">Despues de haber calculado la cinematica inversa del punto incial de los cordones de soldadura, aplicamos cinematica diferencial debido a que los cordones de soldadura son lineales y el metodo de Newton nos da una solucion articular, por lo tanto debemos utlizar otro metodo.</span></center><br><br>\n",
    "\n",
    "****\n"
   ]
  },
  {
   "cell_type": "code",
   "execution_count": 23,
   "metadata": {},
   "outputs": [],
   "source": [
    "# Any interaction with RoboDK must be done through RDK:\n",
    "RDK = Robolink()"
   ]
  },
  {
   "cell_type": "code",
   "execution_count": 24,
   "metadata": {},
   "outputs": [],
   "source": [
    "# >> Robots\n",
    "#\n",
    "#\n",
    "robot_1 = RDK.Item('Motoman AR2010-1', ITEM_TYPE_ROBOT)\n",
    "robot_2 = RDK.Item('Motoman AR2010-2', ITEM_TYPE_ROBOT)"
   ]
  },
  {
   "cell_type": "code",
   "execution_count": 34,
   "metadata": {},
   "outputs": [],
   "source": [
    "R1_home = RDK.Item('HomeR1')\n",
    "R2_home = RDK.Item('HomeR2')"
   ]
  },
  {
   "cell_type": "code",
   "execution_count": 35,
   "metadata": {},
   "outputs": [],
   "source": [
    "# >> Colocamos en Home a los robots\n",
    "robot_1.MoveJ(R1_home)\n",
    "robot_2.MoveJ(R2_home)"
   ]
  },
  {
   "cell_type": "code",
   "execution_count": 27,
   "metadata": {},
   "outputs": [],
   "source": [
    "# >> Traemos la posicion actual de los robots\n",
    "#\n",
    "#\n",
    "solution_R1 = robot_1.SolveIK_All(robot_1.Pose(), robot_1.PoseTool(), robot_1.PoseFrame())\n",
    "solution_R2 = robot_2.SolveIK_All(robot_1.Pose(), robot_1.PoseTool(), robot_1.PoseFrame())"
   ]
  },
  {
   "attachments": {},
   "cell_type": "markdown",
   "metadata": {},
   "source": [
    "**<span style=\"color:blue\">Nata:</span>**<br>\n",
    "- **<span style=\"color:gray\">Posiciones inciales de los cordones de sodadura en ambas direcciones.</span>**<br>\n",
    "\n",
    "***"
   ]
  },
  {
   "cell_type": "code",
   "execution_count": 28,
   "metadata": {},
   "outputs": [],
   "source": [
    "robot_1_angles = {\n",
    "\"w1+\": [[-40.42, -35.31, -40.19, -54.87, -83.67, -148.66]],\n",
    "\"w1-\": [[-39.29, -33.66, -39.18, -54.96, -82.38, -148.78]],\n",
    "\"w2+\": [[-37.92, -31.53, -37.85, -55.08, -80.81, -148.91]],\n",
    "\"w2-\": [[-38.98, -33.19, -38.90, -54.98, -82.03, -148.81]],\n",
    "\"w3+\": [[7.65, -52.13, -48.88, 47.02, -62.76, 176.51]],\n",
    "\"w3-\": [[7.36, -49.82, -47.85, 47.39, -61.68, 175.69]],\n",
    "\"w4+\": [[7.01, -46.90, -46.47, 47.89, -60.38, 174.65]],\n",
    "\"w4-\": [[7.318278769799425, -48.37799553686668, -47.00390743485115, 47.15833494537402, -62.305195763753176, -183.81986757628903]],\n",
    "\"w5+\": [[-27.73, -45.30, -45.68, -53.46, -75.99, -159.89]],\n",
    "\"w5-\": [[-26.79, -43.29, -44.65, -53.54, -74.66, -159.64]],\n",
    "\"w6+\": [[-25.68, -40.72, -43.28, -53.67, -73.05, -159.33]],\n",
    "\"w6-\": [[-26.54, -42.73, -44.36, -53.56, -74.30, -159.57]],\n",
    "\"w7+\": [[24.72, -46.91, -46.47, 52.80, -74.08, 162.43]],\n",
    "\"w7-\": [[23.86, -44.83, -45.44, 52.90, -72.76, 162.10]],\n",
    "\"w8+\": [[22.84, -42.19, -44.07, 53.05, -71.18, 161.68]],\n",
    "\"w8-\": [[23.63, -44.25, -45.15, 52.93, -72.41, 162.01]],\n",
    "\"w9+\": [[-11.29, -51.51, -48.61, -48.53, -65.21, -173.52]],\n",
    "\"w9-\": [[-10.86, -49.23, -47.58, -48.82, -64.07, -172.80]],\n",
    "\"w10+\": [[-10.35, -46.34, -46.20, -49.22, -62.70, -171.90]],\n",
    "\"w10-\": [[-10.74, -48.60, -47.28, -48.91, -63.76, -172.60]],\n",
    "\"w11+\": [[38.18, -37.51, -41.48, 54.79, -82.37, 150.70]],\n",
    "\"w11-\": [[37.07, -35.79, -40.47, 54.87, -81.06, 150.75]],\n",
    "\"w12+\": [[35.73557432439154, -33.56838341594566, -39.1295007675843, 54.981710320103375, -79.46587458304006, 150.8049917341383]],\n",
    "\"w12-\": [[36.77370444318182, -35.3020340414703, -40.18320002030701, 54.89376661124852, -80.70269107159461, 150.76707040960642]],\n",
    "\"w13+\": [[7.203319840725981, -52.18487434898669, -48.90972859633892, -39.26713824775963, -52.588205817262484, 170.65926418053897]],\n",
    "\"w13-\": [[6.924085512009022, -49.8755253938656, -47.87364580337942, -40.07745267618955, -51.78619994783462, 171.9599324859854]],\n",
    "\"w14+\": [[6.596629048459238, -46.94896221173555, -46.49092847378138, -41.088157189741594, -50.82661172747251, 173.5652929651672]],\n",
    "\"w14-\": [[6.849719412945364, -49.23242655161884, -47.57652556026675, -40.30116817229475, -51.569865610958566, 172.31688855918333]],\n",
    "\"w15+\": [[48.044358941563054, -25.88281434807908, -34.07954628010819, 54.51965083036409, -87.9493924740452, 141.5604125255024]],\n",
    "\"w15-\": [[46.904520038459445, -24.498458008854644, -33.10242674259315, 54.671424028777125, -86.79436978970863, 141.88210086077737]],\n",
    "\"w16+\": [[45.50502458761369, -22.698495677934527, -31.800343437172543, 54.86005424757053, -85.37764925072719, 142.27413945559957]],\n",
    "\"w16-\": [[46.59275504485857, -24.107290507985613, -32.822510181442674, 54.7132309562698, -86.4785517881623, 141.9696000060277]],\n",
    "\"w17+\": [[24.340578390300053, -47.0965822309523, -46.56256282482264, -26.42313013884775, -40.896368446573604, 152.92195140376495]],\n",
    "\"w17-\": [[23.4926009320799, -45.01347438815088, -45.532936653251916, -27.86341195523826, -40.345727830249196, 154.81923811320343]],\n",
    "\"w18+\": [[22.485418907995385, -42.357830763193874, -44.16104624131854, -29.629561706609167, -39.704403317205234, 157.15211980158375]],\n",
    "\"w18-\": [[23.265068559551786, -44.431393283747184, -45.23796029397152, -28.2571599372057, -40.199394636419434, 155.3387543243551]],\n",
    "\"w19+\": [[55.19092225999816, -13.350089682483103, -24.44778128959023, 53.32626000212471, -91.94247200735877, 135.0709067831849]],\n",
    "\"w19-\": [[54.111136666484015, -12.228702724250963, -23.497864297953463, 53.54831598241196, -90.98950346287586, 135.56435767695785]],\n",
    "\"w20+\": [[52.77077798300102, -10.757490874088782, -22.229143528876424, 53.81687707450765, -89.81077611477468, 136.1794697937516]],\n",
    "\"w20-\": [[53.81395151585773, -11.910241373190395, -23.22540112199613, 53.60854692662966, -90.72768653054776, 135.70038913669657]],\n",
    "\"w21+\": [[37.89548279430138, -37.77355901073451, -41.63267881579504, -11.318617080478779, -32.26866274206209, 133.73713976827148]],\n",
    "\"w21-\": [[36.79199930007444, -36.04197126575376, -40.62360519192661, -13.201635732669088, -31.79625222076127, 136.0540309344387]],\n",
    "\"w22+\": [[35.457958627478874, -33.813370814523914, -39.28027092652071, -15.54132986455644, -31.268426247292812, 138.93592382220794]],\n",
    "\"w22-\": [[36.4928504879566, -35.555493331309734, -40.33468183966629, -13.720435841036599, -31.67352836532596, 136.69273049548195]],\n",
    "\"w23+\": [[60.4556628050409, -0.42281115208164016, -12.589061590432438, 52.008812831266056, -95.39649857326489, 131.08712999628264]],\n",
    "\"w23-\": [[59.464054959975314, 0.5207194368881122, -11.644973945818611, 52.27002899753825, -94.63153557768294, 131.684775342997]],\n",
    "\"w24+\": [[58.22374188411708, 1.7684680427926052, -10.380002803428638, 52.58595918222266, -93.68101305681844, 132.43973156199874]],\n",
    "\"w24-\": [[59.189961284062335, 0.7898590958596885, -11.373707329935534, 52.34088892079802, -94.42082053973915, 131.85080793398794]],\n",
    "\"w25+\": [[47.838433514021396, -26.182971269587433, -34.2886388844528, 4.534881689493856, -27.390876027716697, 114.32726037427385]],\n",
    "\"w25-\": [[46.69791344018905, -24.791094506068127, -33.31073218627401, 2.5529979125209525, -26.90785223663731, 116.73976567128003]],\n",
    "\"w26+\": [[45.29802927069969, -22.981780048202253, -32.00765525593981, 0.031462852724651734, -26.370389578358992, 119.79944751524727]],\n",
    "\"w26-\": [[46.386019103895556, -24.39785403044461, -33.03059656248633, 1.9995148095162807, -26.78258568433535, 117.41222988584474]],\n",
    "\"w27+\": [[64.43341970023572, 13.034359860563143, 1.8868962226771389, 50.99792357628162, -99.07963246080973, 129.44638253839832]],\n",
    "\"w27-\": [[63.53144385778967, 13.882318781545564, 2.871173436386111, 51.273412231944064, -98.47594115960679, 130.11578149191277]],\n",
    "\"w28+\": [[62.397241109906794, 15.012527926839146, 4.196147898116251, 51.608653210206064, -97.72645633283351, 130.97078706115883]],\n",
    "\"w28-\": [[63.2813804000239, 14.125248157539742, 3.1547077351815145, 51.348402914925984, -98.30971616273867, 130.30292576292365]],\n",
    "\n",
    "}"
   ]
  },
  {
   "cell_type": "code",
   "execution_count": 29,
   "metadata": {},
   "outputs": [],
   "source": [
    "robot_2_angles = {\n",
    "\"w1+\": [[-66.40643116233093, 21.639124312607315, 12.26111510694022, -50.673038744673434, -101.70234895273617, -129.59441580465557]],\n",
    "\"w1-\": [[-65.55433579641068, 22.474015737784885, 13.312601493359676, -50.95186504685593, -101.1873783571376, -130.30785003799392]],\n",
    "\"w2+\": [[-65.31778002343272, 22.713973755348224, 13.616253877634554, -51.02801167551658, -101.04598730679466, -130.50811575369065]],\n",
    "\"w2-\": [[-64.4802580187878, 23.593386983754005, 14.734580155048421, -51.29316998445804, -100.55145084590139, -131.22571714306252]],\n",
    "\"w3+\": [[-52.47493289010315, -18.7808749928536, -28.84088750156748, -13.383447616941359, -26.16947582536088, -103.60212409264011]],\n",
    "\"w3-\": [[-51.36225770813589, -17.559287280682394, -27.882413344759016, -11.496642440503946, -25.67654522695885, -105.91884175777619]],\n",
    "\"w4+\": [[-51.05674383267164, -17.21306702573384, -27.607649248347872, -10.965691767544556, -25.54792129247331, -106.56856828566012]],\n",
    "\"w4-\": [[-49.986816315825386, -15.962376704379386, -26.603570187888856, -9.06335138430952, -25.122060730237106, -108.88936593980605]],\n",
    "\"w5+\": [[-63.005731083795624, 7.519664924039767, -4.307203354508764, -51.33318963422891, -97.5637715269644, -129.79821023930006]],\n",
    "\"w5-\": [[-62.06790193138954, 8.394547851408445, -3.3486472361268103, -51.60560070796995, -96.89771011548464, -130.44065944573134]],\n",
    "\"w6+\": [[-61.808173481209195, 8.644751043958127, -3.0728354520153704, -51.679636567517754, -96.71418786794683, -130.61981502421125]],\n",
    "\"w6-\": [[-60.890834353654306, 9.556924939555058, -2.060985779154836, -51.93616391072978, -96.06973175243031, -131.25758473710843]],\n",
    "\"w7+\": [[-44.29037884307086, -31.046823921775385, -37.5415327524743, 1.6700289588580632, -28.91589564165778, -121.87325760226237]],\n",
    "\"w7-\": [[-43.14559091151912, -29.526803392983837, -36.5520978354385, 3.6567305245948702, -28.438629208609168, -124.29122376405684]],\n",
    "\"w8+\": [[-42.83352699695296, -29.098286662424826, -36.26873524583488, 4.208535347449747, -28.315053680209676, -124.9622123950473]],\n",
    "\"w8-\": [[-41.74828133436348, -27.558498869719934, -35.2343229827628, 6.160192137108394, -27.90892231610737, -127.33378286553476]],\n",
    "\"w9+\": [[-58.57383246165606, -5.676219368106849, -17.649427670214678, -52.50813527621853, -94.05937741587645, -132.37051185946743]],\n",
    "\"w9-\": [[-57.54492936534163, -4.6725580207173945, -16.708308623861544, -52.75784064187378, -93.22156151947715, -132.93274010313846]],\n",
    "\"w10+\": [[-57.260959492955344, -4.386745490453518, -16.438092509440516, -52.82553218594151, -92.9909425044409, -133.0884882609908]],\n",
    "\"w10-\": [[-56.261436445983215, -3.349293913064681, -15.448997897099018, -53.059501777034555, -92.18179591121132, -133.63945589605902]],\n",
    "\"w11+\": [[-32.98426463387283, -41.952644007268475, -43.945810246790586, 17.483249971827355, -35.30094757140538, -141.44986922163517]],\n",
    "\"w11-\": [[-31.946294652191664, -40.07585089421927, -42.92814857237391, 19.22785440026261, -34.81205241863836, -143.63460746027187]],\n",
    "\"w12+\": [[-31.666055907619125, -39.549752520384295, -42.63672254130117, 19.706469584153037, -34.684063395490014, -144.2347680566649]],\n",
    "\"w12-\": [[-30.70029972132782, -37.6698526628621, -41.57308936109967, 21.37975439175604, -34.25792658025151, -146.3357654315464]],\n",
    "\"w13+\": [[-52.6448047212415, -18.47117460261902, -28.599509452005627, -53.84366032931167, -90.5037019769996, -137.33692138341564]],\n",
    "\"w13-\": [[-51.533782504908594, -17.25587089409639, -27.641693587760624, -54.04139483802156, -89.46831881811949, -137.7722550821422]],\n",
    "\"w14+\": [[-51.22867741545965, -16.911389556960888, -27.367109425595164, -54.09517603158229, -89.1843277730898, -137.89175527337807]],\n",
    "\"w14-\": [[-50.160027347257994, -15.666828169891817, -26.363654209310464, -54.28172548516336, -88.19135616498066, -138.311008813328]],\n",
    "\"w15+\": [[-17.874670562381432, -49.84076743034685, -47.85768336886287, 31.852677114087932, -45.315805750990556, -160.1541668618285]],\n",
    "\"w15-\": [[-17.215934866639095, -47.64235796328334, -46.825655990115315, 33.0504041938776, -44.684883345153544, -161.82517370517598]],\n",
    "\"w16+\": [[-17.03984489497506, -47.02910671401967, -46.52984459349023, 33.378137289692525, -44.51575424129665, -162.28261694498656]],\n",
    "\"w16-\": [[-16.43853734967222, -44.84808640579151, -45.44944909151076, 34.521582868243506, -43.93853369694728, -163.87899203901608]],\n",
    "\"w17+\": [[-44.52494657540233, -30.756634564503017, -37.35452203327324, -54.798049855354435, -86.02634473903063, -144.88755271811308]],\n",
    "\"w17-\": [[-43.37977750056839, -29.24485952151149, -36.3658786181094, -54.91663128767761, -84.79550181819184, -145.11497531560448]],\n",
    "\"w18+\": [[-43.06754475159133, -28.818608635338894, -36.08273849959667, -54.9500027383436, -84.45973409342285, -145.17608543179645]],\n",
    "\"w18-\": [[-41.98149568977296, -27.28675368759959, -35.04912067060267, -55.06956081177742, -83.2919245870581, -145.3865497752372]],\n",
    "\"w19+\": [[0.22981629347746235, -52.73476212345608, -49.14936797723897, 43.45244494525954, -57.73013171593368, 182.80572939449758]],\n",
    "\"w19-\": [[0.2208044176743132, -50.4029896345759, -48.11453546935644, 44.02439310328646, -56.78683455194512, 181.74743397201243]],\n",
    "\"w20+\": [[0.21840636993292567, -49.7538458287006, -47.81771695591419, 44.184492475343525, -56.532171040752225, 181.45597981099354]],\n",
    "\"w20-\": [[0.2102512432892386, -47.449591666245915, -46.73304676406673, 44.75464699802085, -55.65610999597852, 180.43359625489106]],\n",
    "\"w21+\": [[-33.30648882703218, -41.71261785415932, -43.81756240609987, -54.35969908395608, -79.48658597094631, -155.09825732440243]],\n",
    "\"w21-\": [[-32.26316699693649, -39.84472091090702, -42.800450766769096, -54.42252919475147, -78.14381816808083, -155.0118258365775]],\n",
    "\"w22+\": [[-31.981411140947245, -39.32104455890698, -42.509185677435624, -54.443045285653525, -77.77977412075985, -154.98585398831938]],\n",
    "\"w22-\": [[-31.010194518257357, -37.44954951876959, -41.446147754733175, -54.525557597384065, -76.52115017149862, -154.8884855100976]],\n",
    "\"w23+\": [[18.290022914687594, -49.69950466328218, -47.79269607441514, 51.006529714622395, -69.9190230405382, 167.8137197834387]],\n",
    "\"w23-\": [[17.617977891569613, -47.507381670046776, -46.76084638149147, 51.172730715603, -68.66744349610131, 167.29970030189656]],\n",
    "\"w24+\": [[17.438292724142016, -46.89582604596263, -46.46509408070786, 51.223484123512364, -68.32952723326781, 167.15619296669993]],\n",
    "\"w24-\": [[16.82459225684087, -44.72063912448251, -45.38493820788853, 51.4175727781759, -67.16607743291476, 166.6469910446796]],\n",
    "\"w25+\": [[-18.290022914687587, -49.69950466328222, -47.7926960744152, -51.006529714622395, -69.9190230405382, -167.8137197834387]],\n",
    "\"w25-\": [[-17.617977891569605, -47.507381670046776, -46.76084638149147, -51.172730715603, -68.6674434961013, -167.29970030189665]],\n",
    "\"w26+\": [[-17.438292724142016, -46.89582604596263, -46.46509408070786, -51.22348412351236, -68.32952723326781, -167.1561929667]],\n",
    "\"w26-\": [[-16.824592256840862, -44.720639124482545, -45.38493820788857, -51.41757277817591, -67.16607743291476, -166.6469910446796]],\n",
    "\"w27+\": [[33.306488827032176, -41.71261785415934, -43.8175624060999, 54.35969908395608, -79.48658597094628, 155.09825732440243]],\n",
    "\"w27-\": [[32.263166996936484, -39.844720910906986, -42.80045076676906, 54.42252919475148, -78.14381816808083, 155.01182583657754]],\n",
    "\"w28+\": [[31.98141114094723, -39.32104455890698, -42.509185677435624, 54.44304528565352, -77.77977412075984, 154.98585398831938]],\n",
    "\"w28-\": [[31.01019451825735, -37.44954951876963, -41.446147754733225, 54.525557597384065, -76.52115017149859, 154.8884855100976]],\n",
    "\n",
    "}"
   ]
  },
  {
   "attachments": {},
   "cell_type": "markdown",
   "metadata": {},
   "source": [
    "*****\n",
    "\n",
    "##### **<center><span style=\"color:blue\">Cinemática Diferencial</span></center>**\n",
    "\n",
    "*****"
   ]
  },
  {
   "attachments": {},
   "cell_type": "markdown",
   "metadata": {},
   "source": [
    "- **<span style=\"color:gray\">Leer el punto inicial y final de los cordones de soldadura de ambos robots.</span><br>**"
   ]
  },
  {
   "cell_type": "code",
   "execution_count": 30,
   "metadata": {},
   "outputs": [],
   "source": [
    "robot1_path = \"./Welds/Robot-1\"\n",
    "robot2_path = \"./Welds/Robot-2\""
   ]
  },
  {
   "cell_type": "code",
   "execution_count": 31,
   "metadata": {},
   "outputs": [],
   "source": [
    "split_coodinate = lambda x: [float(x) for x in str(x).replace(\"\\n\", \"\").split(\",\")]"
   ]
  },
  {
   "cell_type": "code",
   "execution_count": 32,
   "metadata": {},
   "outputs": [],
   "source": [
    "# >> Cordones de soldadura para el Robot-1\n",
    "#\n",
    "#\n",
    "R1_welds = {}\n",
    "for index, weld in enumerate(Path(robot1_path).iterdir()):\n",
    "    file_name, extension = os.path.splitext(weld.name)\n",
    "    file_name = file_name.replace(\"Weld\", \"\")\n",
    "    trajectories = files.readFile(filepath=weld)\n",
    "    trajectories = list(map(split_coodinate, trajectories))\n",
    "    R1_welds[f\"w{file_name}+\"] = trajectories\n",
    "    R1_welds[f\"w{file_name}-\"] = list(reversed(trajectories))\n",
    "# >> Cordones de soldadura para el Robot-2\n",
    "#\n",
    "#\n",
    "R2_welds = {}\n",
    "for index, weld in enumerate(Path(robot2_path).iterdir()):\n",
    "    file_name, extension = os.path.splitext(weld.name)\n",
    "    file_name = file_name.replace(\"Weld\", \"\")\n",
    "    trajectories = files.readFile(filepath=weld)\n",
    "    trajectories = list(map(split_coodinate, trajectories))\n",
    "    R2_welds[f\"w{file_name}+\"] = trajectories\n",
    "    R2_welds[f\"w{file_name}-\"] = list(reversed(trajectories))"
   ]
  },
  {
   "attachments": {},
   "cell_type": "markdown",
   "metadata": {},
   "source": [
    "- **<span style=\"color:gray\">Obtenemos la cinematica diferencial de los Robots de soldadura.</span><br>**\n",
    "\n",
    "****"
   ]
  },
  {
   "cell_type": "code",
   "execution_count": 33,
   "metadata": {},
   "outputs": [],
   "source": [
    "# >> Clase\n",
    "#\n",
    "#\n",
    "class CustomThreadR1(Thread):\n",
    "    def __init__(self, robot_1_output, welds, angles, write_file, robotDK, jacobian):\n",
    "        super(CustomThreadR1, self).__init__()\n",
    "        self.robot_1_output = robot_1_output\n",
    "        self.welds = welds\n",
    "        self.angles = angles\n",
    "        self.write_file = write_file\n",
    "        self.robotDK = robotDK\n",
    "        self.jacobian = jacobian\n",
    "    # Version 1.3\n",
    "    def run(self):\n",
    "        for index, (weld_name, trajectory )in enumerate(self.welds.items()):\n",
    "            # >> Creamos archivo\n",
    "            file_path = os.path.join(self.robot_1_output, f\"{weld_name}.txt\")\n",
    "            self.write_file(file_path=file_path, data=[], type_mode=\"w\")\n",
    "            # >> Posicion inicial y final del los cordones de soldadura\n",
    "            x_initial = trajectory[0][0]\n",
    "            x_end = trajectory[1][0]\n",
    "            # >> Desplazamiento en el eje X\n",
    "            displacement = np.array([1, 0, 0])\n",
    "            #\n",
    "            if x_initial - x_end < 0:\n",
    "                displacement = np.array([1, 0, 0])\n",
    "            else:\n",
    "                displacement = np.array([-1, 0, 0])\n",
    "            for i in range(int(abs(x_initial - x_end))):\n",
    "                # print(i)\n",
    "                if i == 0:\n",
    "                    initial_position_ = self.angles[weld_name][0]\n",
    "                    self.robotDK.MoveJ(initial_position_)\n",
    "                    self.write_file(file_path=file_path, data=[','.join(map(str, initial_position_))], type_mode=\"a\")\n",
    "                # >> Punto final [x, y, z]\n",
    "                #\n",
    "                # print(trajectory)\n",
    "                end_point = np.array(trajectory)\n",
    "                # >> Posicion Actual del Robot\n",
    "                #\n",
    "                #\n",
    "                solution_R1 = self.robotDK.SolveIK_All(self.robotDK.Pose(), self.robotDK.PoseTool(), self.robotDK.PoseFrame())\n",
    "                R1_current_position = np.ravel(solution_R1[:6,0])\n",
    "                # >> Transformamos los angulos a radianes\n",
    "                #\n",
    "                #\n",
    "                q4_actual, q5_actual, q6_actual = R1_current_position[3:] * (np.pi/180)\n",
    "                theta_init = R1_current_position[:3] * (np.pi/180)\n",
    "                q1_actual, q2_actual, q3_actual = theta_init\n",
    "                # >> Cinematica diferencial\n",
    "                #\n",
    "                #\n",
    "                J0 = self.jacobian.evalf(subs= {q1: q1_actual, q2: q2_actual, q3: q3_actual, q4: q4_actual, q5: q5_actual, q6: q6_actual})\n",
    "                dq = np.array(J0.inv().tolist()).astype(np.float64) @ displacement\n",
    "                q = theta_init + dq\n",
    "                # >> Solucion de los angulos de las articulaciones\n",
    "                #\n",
    "                #\n",
    "                solution = np.concatenate((q * (180 / np.pi), R1_current_position[3:]), axis=0).tolist()\n",
    "                # >> Simulamos los movimientos\n",
    "                self.robotDK.MoveJ(solution)\n",
    "                # >> Guardamos los angulos de las articulaciones en la carpeta output y al robot que corresponde\n",
    "                #\n",
    "                #\n",
    "                self.write_file(file_path=file_path, data=[','.join(map(str, solution))], type_mode=\"a\")\n",
    " \n",
    " \n",
    "if __name__ ==\"__main__\":\n",
    "    # >> Creamos el thread\n",
    "    #\n",
    "    # >> Thread para Robot-1\n",
    "    #\n",
    "    #\n",
    "    R1_parameters = {\n",
    "        \"robot_1_output\": robot_1_output, \"welds\": R1_welds,\n",
    "        \"angles\": robot_1_angles, \"write_file\": files.write_file,\n",
    "        \"robotDK\": robot_1, \"jacobian\": jacobian}\n",
    "    R1_thread = CustomThreadR1(**R1_parameters)\n",
    "    # >> Thread para Robot-2\n",
    "    #\n",
    "    #\n",
    "    R2_parameters = {\n",
    "        \"robot_1_output\": robot_2_output, \"welds\": R2_welds,\n",
    "        \"angles\": robot_2_angles, \"write_file\": files.write_file,\n",
    "        \"robotDK\": robot_2, \"jacobian\": jacobian}\n",
    "    R2_thread = CustomThreadR1(**R2_parameters)\n",
    "    # >> Iniciamo los threads del Robot-1 y Robot-2\n",
    "    #\n",
    "    #\n",
    "    R2_thread.start()\n",
    "    R1_thread.start()\n",
    "    # >> Esperamos a que terminen los procesos en paralelo (thread)\n",
    "    #\n",
    "    #\n",
    "    R2_thread.join()\n",
    "    R1_thread.join()"
   ]
  },
  {
   "attachments": {},
   "cell_type": "markdown",
   "metadata": {},
   "source": [
    "*****\n",
    "\n",
    "##### **<center><span style=\"color:blue\">Simulación y detección de colisión</span></center>**\n",
    "\n",
    "*****"
   ]
  },
  {
   "cell_type": "code",
   "execution_count": 36,
   "metadata": {},
   "outputs": [],
   "source": [
    "\"\"\"\n",
    "# >> Leer los angulos de las trayectorias de los cordones de soldadura guardados en la carpeta Output\n",
    "\"\"\"\n",
    "# >> Cordones de soldadura para el Robot-1\n",
    "#\n",
    "#\n",
    "R1_angles = {}\n",
    "for index, weld in enumerate(Path(robot_1_output).iterdir()):\n",
    "    file_name, extension = os.path.splitext(weld.name)\n",
    "    file_name = file_name.replace(\"Weld\", \"\")\n",
    "    trj_angles = files.readFile(filepath=weld)\n",
    "    trj_angles = list(map(split_coodinate, trj_angles))\n",
    "    R1_angles[file_name] = trj_angles\n",
    "# >> Cordones de soldadura para el Robot-2\n",
    "#\n",
    "#\n",
    "R2_angles = {}\n",
    "for index, weld in enumerate(Path(robot_2_output).iterdir()):\n",
    "    file_name, extension = os.path.splitext(weld.name)\n",
    "    file_name = file_name.replace(\"Weld\", \"\")\n",
    "    trj_angles = files.readFile(filepath=weld)\n",
    "    trj_angles = list(map(split_coodinate, trj_angles))\n",
    "    R2_angles[file_name] = trj_angles"
   ]
  },
  {
   "attachments": {},
   "cell_type": "markdown",
   "metadata": {},
   "source": [
    "- **<span style=\"color:gray\">Generar combinaciones con el algoritmo TSP.</span><br>**\n",
    "\n",
    "****"
   ]
  },
  {
   "cell_type": "code",
   "execution_count": 38,
   "metadata": {},
   "outputs": [],
   "source": [
    "# >> Generar ruta para escribir los resultados\n",
    "#\n",
    "#\n",
    "tsp_output_path = \"./Output/Sequences\"\n",
    "if not os.path.isdir(tsp_output_path):\n",
    "    os.mkdir(tsp_output_path)"
   ]
  },
  {
   "cell_type": "code",
   "execution_count": 39,
   "metadata": {},
   "outputs": [],
   "source": [
    "# >> Nombre de los cordones de soldadura\n",
    "#\n",
    "#\n",
    "welds_name = list(R2_welds.keys())\n",
    "# >> Obtener la distancia euclideana entre dos puntos en el espacio 3D\n",
    "#\n",
    "#\n",
    "get_euclidean_distance = lambda a, b: np.linalg.norm(a - b)"
   ]
  },
  {
   "cell_type": "code",
   "execution_count": null,
   "metadata": {},
   "outputs": [],
   "source": [
    "# >> Parametros\n",
    "\"\"\"\n",
    "Los parametros que requiere el algoritmo son:\n",
    " - Nombre de los cordones ['w1+', 'w1-', 'w2+', ..., 'wn+', 'wn-']\n",
    " - Numero decombianciones que se desea encontrar\n",
    " - las coordenadas del punto incial y final de los coordones\n",
    " - Numero de robots\n",
    "\"\"\"\n",
    "#\n",
    "#\n",
    "number_sequences = 200\n",
    "count = 0\n",
    "sequences = {}\n",
    "for i in range(number_sequences):\n",
    "    print(i)\n",
    "    temp_welds = trajectoiries_name.copy()\n",
    "    sequences[f\"c{i + 1}\"] = {\"R1\": [], \"R2\": []}\n",
    "    # >> Seleccionar de forma aleatoria los cordones de sodadura\n",
    "    # >> Seleccionar el cordon para el Robot-1\n",
    "    rbt_1 = np.random.choice(temp_welds, 1)\n",
    "    \n",
    "    # >> Elimamos el cordon para que no vuelva a ser selccionado\n",
    "    #\n",
    "    #\n",
    "    R1_weld_name = rbt_1[0].replace(\"+\", \"\").replace(\"-\", \"\")\n",
    "    temp_welds.remove(R1_weld_name + \"-\")\n",
    "    temp_welds.remove(R1_weld_name + \"+\")\n",
    "    # >> Consulta las coordenadas del cordon seleccionado por el robot 1\n",
    "\n",
    "    __coodinate_R1 = R2_welds[rbt_1[0]][1]\n",
    "    #\n",
    "    # >> Seleccionamos el cordon para el robot-2\n",
    "    #\n",
    "    # >> Distancia para robot 1\n",
    "    distance_R1 = {}\n",
    "    for weld in temp_welds:\n",
    "        distance_R1[weld] = get_euclidean_distance(np.array(__coodinate_R1), np.array(R2_welds[weld][0]))\n",
    "    \n",
    "    # >> Seleccionamos el cordon que tiene mayor diatancia para evitar colision\n",
    "    #\n",
    "    #\n",
    "    rbt_2 = max(distance_R1, key=distance_R1.get)\n",
    "    # >> Elimamos el cordon para que no vuelva a ser selccionado\n",
    "    #\n",
    "    #\n",
    "    R2_weld_name = rbt_2.replace(\"+\", \"\").replace(\"-\", \"\")\n",
    "    temp_welds.remove(R2_weld_name + \"-\")\n",
    "    temp_welds.remove(R2_weld_name + \"+\")\n",
    "    # >> Agregamos a la variable los cordones seleccionados\n",
    "    #\n",
    "    #\n",
    "    sequences[f\"c{i + 1}\"][\"R1\"].append(rbt_1[0])\n",
    "    sequences[f\"c{i + 1}\"][\"R2\"].append(rbt_2)\n",
    "    #\n",
    "    #\n",
    "    # >> Consulta las coordenadas de los cordon seleccionado por el robot  2\n",
    "    __coodinate_R2 = R2_welds[rbt_2][1]\n",
    "    while temp_welds:\n",
    "        # >> Obtenemos las distancias euclideanas del punto final de los cordones seleccionados con los que aun estan disponibles\n",
    "        # >> Distancia para robot 1\n",
    "        distance_R1 = {}\n",
    "        for weld in temp_welds:\n",
    "            distance_R1[weld] = get_euclidean_distance(np.array(__coodinate_R1), np.array(R2_welds[weld][0]))\n",
    "        # >> Seleccionamos el cordon que tiene menor diatancia\n",
    "        #\n",
    "        #\n",
    "        weld_min_R1 = min(distance_R1, key=distance_R1.get)\n",
    "        # >> Elimamos el cordon para que no vuelva a ser selccionado\n",
    "        #\n",
    "        #\n",
    "        R1_weld_name = weld_min_R1.replace(\"+\", \"\").replace(\"-\", \"\")\n",
    "        temp_welds.remove(R1_weld_name + \"-\")\n",
    "        temp_welds.remove(R1_weld_name + \"+\")\n",
    "\n",
    "        # >> Distancia para robot 2\n",
    "        distance_R2 = {}\n",
    "        for weld in temp_welds:\n",
    "            distance_R2[weld] = get_euclidean_distance(np.array(__coodinate_R2), np.array(R2_welds[weld][0]))\n",
    "        # >> Seleccionamos el cordon que tiene menor diatancia\n",
    "        #\n",
    "        #\n",
    "        weld_min_R2 = min(distance_R2, key=distance_R2.get)\n",
    "        # >> Elimamos el cordon para que no vuelva a ser selccionado\n",
    "        #\n",
    "        #\n",
    "        R2_weld_name = weld_min_R2.replace(\"+\", \"\").replace(\"-\", \"\")\n",
    "        temp_welds.remove(R2_weld_name + \"-\")\n",
    "        temp_welds.remove(R2_weld_name + \"+\")\n",
    "\n",
    "\n",
    "        # >> Actualizamos la coordenadas de la posicion de los cordones seleccionados\n",
    "        __coodinate_R1 = R2_welds[weld_min_R1][1]\n",
    "        __coodinate_R2 = R2_welds[weld_min_R2][1]\n",
    "        # >> Agregamos a la variable los cordones seleccionados\n",
    "        #\n",
    "        #\n",
    "        sequences[f\"c{i + 1}\"][\"R1\"].append(weld_min_R1)\n",
    "        sequences[f\"c{i + 1}\"][\"R2\"].append(weld_min_R2)\n",
    "\n",
    "# >> Guardamos los resultados en el archiv ./output/Sequences/seqeunces.txt\n",
    "file_sequence_path = os.path.join(tsp_output_path, \"sequences.txt\")\n",
    "files.write_file_string(file_path=file_sequence_path, data_string=json.dumps(sequences, indent=4), type_mode=\"w\")\n"
   ]
  },
  {
   "cell_type": "code",
   "execution_count": 76,
   "metadata": {},
   "outputs": [],
   "source": [
    "\"\"\"\n",
    "# >> Leemos las secuencias generadas por el Algoritmo TSP\n",
    "\n",
    "Ejemplo de secuencias generadas:\n",
    "\n",
    "# combinations = {\n",
    "# \"c21\": {\n",
    "# \"R1\": [\"w1+\", \"w2+\", \"w3+\", \"w4+\", \"w5+\", \"w6+\", \"w7+\", \"w8+\", \"w8+\", \"w9+\", \"w10+\", \"w11+\", \"w12+\", \"w13+\", \"w14+\"],\n",
    "# \"R2\": [\"w15+\", \"w16+\", \"w17+\", \"w18+\", \"w19+\", \"w20+\", \"w21+\", \"w22+\", \"w23+\", \"w24+\", \"w25+\", \"w26+\", \"w27+\", \"w28+\"]\n",
    "# },\n",
    "# \"c22\": {\n",
    "# \"R1\": [\"w15+\", \"w2+\", \"w3+\", \"w4+\", \"w5+\", \"w6+\", \"w7+\", \"w8+\", \"w8+\", \"w9+\", \"w10+\", \"w11+\", \"w12+\", \"w13+\", \"w14+\"],\n",
    "# \"R2\": [\"w1+\", \"w16+\", \"w17+\", \"w18+\", \"w19+\", \"w20+\", \"w21+\", \"w22+\", \"w23+\", \"w24+\", \"w25+\", \"w26+\", \"w27+\", \"w28+\"]\n",
    "# }\n",
    "\n",
    "# }\n",
    "\"\"\"\n",
    "file_sequence_path = os.path.join(tsp_output_path, \"sequences.txt\")\n",
    "combinations = json.loads(files.readFileString(file_sequence_path))\n"
   ]
  },
  {
   "attachments": {},
   "cell_type": "markdown",
   "metadata": {},
   "source": [
    "- **<span style=\"color:gray\">Realizar las simulaciones para detectar colisión.</span><br>**\n",
    "\n",
    "****"
   ]
  },
  {
   "cell_type": "code",
   "execution_count": 77,
   "metadata": {},
   "outputs": [
    {
     "name": "stderr",
     "output_type": "stream",
     "text": [
      "Exception in thread Thread-130:\n",
      "Traceback (most recent call last):\n",
      "  File \"c:\\RoboDK\\Python37\\lib\\threading.py\", line 917, in _bootstrap_inner\n",
      "    self.run()\n",
      "  File \"C:\\Users\\WIA5056\\AppData\\Local\\Temp\\ipykernel_11624\\2361708057.py\", line 19, in run\n",
      "    self.robotDK.MoveJ(trajectori)\n",
      "  File \"c:\\RoboDK\\Python37\\lib\\site-packages\\robodk\\robolink.py\", line 5442, in MoveJ\n",
      "    self.link._moveX(target, self, MOVE_TYPE_JOINT, blocking)\n",
      "  File \"c:\\RoboDK\\Python37\\lib\\site-packages\\robodk\\robolink.py\", line 1014, in _moveX\n",
      "    self._check_status()  #will wait here\n",
      "  File \"c:\\RoboDK\\Python37\\lib\\site-packages\\robodk\\robolink.py\", line 767, in _check_status\n",
      "    raise StoppedError(self.LAST_STATUS_MESSAGE)\n",
      "robodk.robolink.StoppedError: Collision detected\n",
      "\n"
     ]
    },
    {
     "name": "stdout",
     "output_type": "stream",
     "text": [
      "\u001b[1;91m Secuencia con colision:\u001b[00m \u001b[1;98m c10\u001b[00m\n",
      "\u001b[1;92m Secuencia sin colision:\u001b[00m \u001b[1;98m c32\u001b[00m\n"
     ]
    }
   ],
   "source": [
    "# >> Simulacion\n",
    "#\n",
    "#\n",
    "class SimulationThread(Thread):\n",
    "    def __init__(self, robotDK, sequence, event, angles, robot2):\n",
    "        super(SimulationThread, self).__init__()\n",
    "        self.robotDK = robotDK\n",
    "        self.sequence = sequence\n",
    "        self.event = event\n",
    "        self.angles = angles\n",
    "        self.robot2 = robot2\n",
    "        self.get_complete = False\n",
    "    # Version 1.3\n",
    "    def run(self):\n",
    "        for index, sequence in enumerate(self.sequence):\n",
    "            # >> Simulamos los movimientos\n",
    "            # print(\"Angle:\", self.angles[sequence])\n",
    "            for trajectori in self.angles[sequence]:\n",
    "                self.robotDK.MoveJ(trajectori)\n",
    "                # Revisar si no existe colision\n",
    "                if self.event.is_set():\n",
    "                    return -1\n",
    "                collision = self.robotDK.Collision(self.robot2)\n",
    "                # print(f\"Collision: {self.robotDK.Name()}\", collision)\n",
    "                if collision == 1:\n",
    "                    self.get_complete = False\n",
    "                    return -1\n",
    "        self.get_complete = True\n",
    "# >> Detectar Colision\n",
    "#\n",
    "#\n",
    "class CustomThreadCollision(Thread):\n",
    "    def __init__(self, robot1, robot2, event, R1_event, R2_event):\n",
    "        super(CustomThreadCollision, self).__init__()\n",
    "        self.robot1 = robot1\n",
    "        self.robot2 = robot2\n",
    "        self.event = event\n",
    "        self.R1_event = R1_event\n",
    "        self.R2_event = R2_event\n",
    "        self.state_collision = False\n",
    "    # Version 1.3\n",
    "    def run(self):\n",
    "        while True:\n",
    "            # Revisar si no existe colision\n",
    "            collisionR1 = self.robot1.Collision(self.robot2)\n",
    "            collisionR2 = self.robot2.Collision(self.robot1)\n",
    "            print(\"Collision:\", collisionR2, collisionR2)\n",
    "            if collisionR1 == 1 or collisionR2 == 1:\n",
    "                print(\"Stop threads...\")\n",
    "                self.R1_event\n",
    "                self.R2_event\n",
    "                self.get_complete = True\n",
    "            if self.event.is_set():\n",
    "                return -1\n",
    "if __name__ ==\"__main__\":\n",
    "    # >> Definimos la ruta para guardar los resultados\n",
    "    simulation_path = \"./Output/Simulation\"\n",
    "    if not os.path.isdir(simulation_path):\n",
    "        os.mkdir(simulation_path)\n",
    "    fail_path = os.path.join(simulation_path, \"Fail.txt\")\n",
    "    successful_path = os.path.join(simulation_path, \"Seccesful.txt\")\n",
    "    files.write_file_string(file_path=fail_path, data_string=\"\", type_mode=\"w\")\n",
    "    files.write_file_string(file_path=successful_path, data_string=\"\", type_mode=\"w\")\n",
    "    \n",
    "    # >> Colocamos en Home a los robots\n",
    "    #\n",
    "    #\n",
    "    robot_1.MoveJ(R1_home)\n",
    "    robot_2.MoveJ(R2_home)\n",
    "    # create the event\n",
    "    R1_event = Event()\n",
    "    R2_event = Event()\n",
    "    #\n",
    "    #\n",
    "    sequence_complete = []\n",
    "    time.sleep(5)\n",
    "    for sequence_name, sequence in combinations.items():\n",
    "        if sequence_name in [\"c10\", \"c32\"]:\n",
    "            # >> Creamos el thread\n",
    "            #\n",
    "            # >> Thread para Robot-1\n",
    "            #\n",
    "            #  robotDK, sequence, event, angles\n",
    "            try:\n",
    "                RDK.setCollisionActive(check_state=1)\n",
    "                R1_parameters = {\n",
    "                    \"robotDK\": robot_1, \"sequence\": sequence.get(\"R1\"),\n",
    "                    \"angles\": R1_angles, \"event\": R1_event, \"robot2\": robot_2}\n",
    "                R1_thread = SimulationThread(**R1_parameters)\n",
    "                # >> Thread para Robot-2\n",
    "                #\n",
    "                #\n",
    "                R2_parameters = {\n",
    "                    \"robotDK\": robot_2, \"sequence\": sequence.get(\"R2\"),\n",
    "                    \"angles\": R2_angles, \"event\": R2_event, \"robot2\": robot_1}\n",
    "                R2_thread = SimulationThread(**R2_parameters)\n",
    "                # >> Iniciamo los threads del Robot-1 y Robot-2\n",
    "                #\n",
    "                #\n",
    "                R2_thread.start()\n",
    "                R1_thread.start()\n",
    "                # >> Esperamos a que terminen los hilos\n",
    "                #\n",
    "                #\n",
    "                R2_thread.join()\n",
    "                R1_thread.join()\n",
    "                # >> Colocamos en Home a los robots\n",
    "                #\n",
    "                #\n",
    "                robot_1.MoveJ(R1_home)\n",
    "                robot_2.MoveJ(R2_home)\n",
    "                if R1_thread.get_complete and R2_thread.get_complete:\n",
    "                    print(prGreen(\"Secuencia sin colision:\"), prBlack(sequence_name))\n",
    "                    sequence_complete.append(sequence_name)\n",
    "                    files.write_file(file_path=successful_path, data=[sequence_name], type_mode=\"a\")\n",
    "                else:\n",
    "                    files.write_file(file_path=fail_path, data=[sequence_name], type_mode=\"a\")\n",
    "                    print(prRed(\"Secuencia con colision:\"), prBlack(sequence_name))\n",
    "                time.sleep(4)\n",
    "            except:\n",
    "                time.sleep(2)\n",
    "                RDK.setCollisionActive(check_state=0)\n",
    "                files.write_file(file_path=fail_path, data=[sequence_name], type_mode=\"a\")\n",
    "                print(prRed(\"Secuencia con colision:\"), prBlack(sequence_name))\n",
    "                robot_1.MoveJ(R1_home)\n",
    "                robot_2.MoveJ(R2_home)\n",
    "                time.sleep(4)"
   ]
  },
  {
   "attachments": {},
   "cell_type": "markdown",
   "metadata": {},
   "source": [
    "*****\n",
    "\n",
    "##### **<center><span style=\"color:blue\">Tiempo de ciclo</span></center>**\n",
    "\n",
    "*****"
   ]
  },
  {
   "cell_type": "code",
   "execution_count": 43,
   "metadata": {},
   "outputs": [],
   "source": [
    "# >> Tiempo de ciclo del Robot-1\n",
    "#\n",
    "#\n",
    "weld_time_R1 = {\"w1+\": 0.16, \"w1-\": 0.17, \"w2+\": 0.15, \"w2-\": 0.15, \"w3+\": 0.19, \"w3-\": 0.18, \"w4+\": 0.17, \"w4-\": 0.17,\n",
    "                \"w5+\": 0.18, \"w5-\": 0.18, \"w6+\": 0.14, \"w6-\": 0.14, \"w7+\": 0.18, \"w7-\": 0.18, \"w8+\": 0.22, \"w8-\": 0.22,\n",
    "                \"w9+\": 0.17, \"w9-\": 0.17, \"w10+\": 0.18, \"w10-\": 0.20, \"w11+\": 0.15, \"w11-\": 0.15, \"w12+\": 0.19, \"w12-\": 0.19,\n",
    "                \"w13+\": 0.20, \"w13-\": 0.20,\n",
    "                \"w14+\": 0.18, \"w14-\": 0.18, \"w15+\": 0.15, \"w15-\": 0.15, \"w16+\": 0.15, \"w16-\": 0.15, \"w17+\": 0.18, \"w17-\": 0.17,\n",
    "                \"w18+\": 0.18, \"w18-\": 0.17, \"w19+\": 0.14, \"w19-\": 0.14, \"w20+\": 0.20, \"w20-\": 0.20, \"w21+\": 0.21, \"w21-\": 0.21,\n",
    "                \"w22+\": 0.22, \"w22-\": 0.22, \"w23+\": 0.23, \"w23-\": 0.23, \"w24+\": 0.22, \"w24-\": 0.22, \"w25+\": 0.21, \"w25-\": 0.21,\n",
    "                \"w26+\": 0.23, \"w26-\": 0.23, \"w27+\": 0.20, \"w27-\": 0.20, \"w28+\": 0.19, \"w28-\": 0.19}\n",
    "weld_time_R2 = {\"w1+\": 0.14, \"w1-\": 0.14, \"w2+\": 0.16, \"w2-\": 0.16, \"w3+\": 0.19, \"w3-\": 0.18, \"w4+\": 0.17, \"w4-\": 0.17,\n",
    "                \"w5+\": 0.18, \"w5-\": 0.17, \"w6+\": 0.15, \"w6-\": 0.15, \"w7+\": 0.22, \"w7-\": 0.22, \"w8+\": 0.21, \"w8-\": 0.21,\n",
    "                \"w9+\": 0.17, \"w9-\": 0.17, \"w10+\": 0.22, \"w10-\": 0.22, \"w11+\": 0.14, \"w11-\": 0.14, \"w12+\": 0.23, \"w12-\": 0.23,\n",
    "                \"w13+\": 0.15, \"w13-\": 0.16,\n",
    "                \"w14+\": 0.18, \"w14-\": 0.18, \"w15+\": 0.21, \"w15-\": 0.21, \"w16+\": 0.16, \"w16-\": 0.16, \"w17+\": 0.14, \"w17-\": 0.14,\n",
    "                \"w18+\": 0.22, \"w18-\": 0.24, \"w19+\": 0.16, \"w19-\": 0.15, \"w20+\": 0.17, \"w20-\": 0.17, \"w21+\": 0.18, \"w21-\": 0.17,\n",
    "                \"w22+\": 0.23, \"w22-\": 0.23, \"w23+\": 0.24, \"w23-\": 0.24, \"w24+\": 0.18, \"w24-\": 0.17, \"w25+\": 0.20, \"w25-\": 0.20,\n",
    "                \"w26+\": 0.18, \"w26-\": 0.17, \"w27+\": 0.14, \"w27-\": 0.14, \"w28+\": 0.15, \"w28-\": 0.17}"
   ]
  },
  {
   "cell_type": "code",
   "execution_count": 89,
   "metadata": {},
   "outputs": [],
   "source": [
    "successful_sequences = files.readFile(\"./Output/Simulation/Seccesful.txt\")\n",
    "fail_sequences = files.readFile(\"./Output/Simulation/Fail.txt\")"
   ]
  },
  {
   "cell_type": "code",
   "execution_count": 90,
   "metadata": {},
   "outputs": [],
   "source": [
    "successful_sequences = list(map(lambda x: x.replace(\"\\n\", \"\"), successful_sequences))\n",
    "fail_sequences = list(map(lambda x: x.replace(\"\\n\", \"\"), fail_sequences))"
   ]
  },
  {
   "cell_type": "code",
   "execution_count": 119,
   "metadata": {},
   "outputs": [],
   "source": [
    "# Creating our own dataframe\n",
    "data = {\"Sequences\": [\"Successful\", \"Collision\"],\n",
    "        \"Cantidad\": [len(successful_sequences), len(fail_sequences)]}\n",
    " \n",
    "# Now convert this dictionary type data into a pandas dataframe\n",
    "# specifying what are the column names\n",
    "df = pd.DataFrame(data, columns=['Sequences', 'Cantidad'])"
   ]
  },
  {
   "cell_type": "code",
   "execution_count": 139,
   "metadata": {},
   "outputs": [
    {
     "data": {
      "image/png": "[encoded data removed]",
      "text/plain": [
       "<Figure size 800x600 with 1 Axes>"
      ]
     },
     "metadata": {},
     "output_type": "display_data"
    }
   ],
   "source": [
    "# Defining the plotsize\n",
    "plt.figure(figsize=(8, 6))\n",
    "\n",
    "# Defining the x-axis, the y-axis and the data\n",
    "# from where the values are to be taken\n",
    "plots = sns.barplot(x=\"Sequences\", y=\"Cantidad\", data=df, palette='gist_rainbow')\n",
    "\n",
    "# Setting the x-acis label and its size\n",
    "plt.xlabel(\"Categories\", size=15)\n",
    "\n",
    "# Setting the y-axis label and its size\n",
    "plt.ylabel(\"Quantity\", size=15)\n",
    "\n",
    "# Finallt plotting the graph\n",
    "plt.show()\n"
   ]
  },
  {
   "cell_type": "code",
   "execution_count": 93,
   "metadata": {},
   "outputs": [],
   "source": [
    "import random"
   ]
  },
  {
   "cell_type": "code",
   "execution_count": 94,
   "metadata": {},
   "outputs": [],
   "source": [
    "plot_successful = {}\n",
    "for seq in successful_sequences:\n",
    "    sequence = combinations[seq]\n",
    "    total_time = 0\n",
    "    for robot_name, welds in sequence.items():\n",
    "        if robot_name == \"R1\":\n",
    "            welds_time = weld_time_R1 \n",
    "        else:\n",
    "            welds_time = weld_time_R2\n",
    "        for weld in welds:\n",
    "            total_time += welds_time[weld] * random.choices([1.1, 4.3, 5.6, 2.6, 3.9, 5.5], k = 1)[0]\n",
    "    plot_successful[seq] = np.round(total_time, 3)\n"
   ]
  },
  {
   "cell_type": "code",
   "execution_count": 95,
   "metadata": {},
   "outputs": [
    {
     "data": {
      "text/plain": [
       "{'c4': 20.034,\n",
       " 'c11': 19.007,\n",
       " 'c32': 20.712,\n",
       " 'c49': 18.554,\n",
       " 'c55': 18.081,\n",
       " 'c105': 19.636,\n",
       " 'c133': 18.797,\n",
       " 'c137': 17.926,\n",
       " 'c144': 20.393,\n",
       " 'c166': 19.073,\n",
       " 'c168': 18.169,\n",
       " 'c196': 17.722}"
      ]
     },
     "execution_count": 95,
     "metadata": {},
     "output_type": "execute_result"
    }
   ],
   "source": [
    "plot_successful"
   ]
  },
  {
   "cell_type": "code",
   "execution_count": 96,
   "metadata": {},
   "outputs": [],
   "source": [
    "# Creating our own dataframe\n",
    "data = {\"Sequences\":list(plot_successful.keys()),\n",
    "        \"Time\": list(plot_successful.values())}\n",
    "\n",
    "df = pd.DataFrame(data, columns=['Sequences', 'Time'])"
   ]
  },
  {
   "cell_type": "code",
   "execution_count": 107,
   "metadata": {},
   "outputs": [
    {
     "data": {
      "text/html": [
       "<svg  width=\"330\" height=\"55\"><rect x=\"0\" y=\"0\" width=\"55\" height=\"55\" style=\"fill:#57dbdb;stroke-width:2;stroke:rgb(255,255,255)\"/><rect x=\"55\" y=\"0\" width=\"55\" height=\"55\" style=\"fill:#5757db;stroke-width:2;stroke:rgb(255,255,255)\"/><rect x=\"110\" y=\"0\" width=\"55\" height=\"55\" style=\"fill:#db57db;stroke-width:2;stroke:rgb(255,255,255)\"/><rect x=\"165\" y=\"0\" width=\"55\" height=\"55\" style=\"fill:#db5757;stroke-width:2;stroke:rgb(255,255,255)\"/><rect x=\"220\" y=\"0\" width=\"55\" height=\"55\" style=\"fill:#dbdb57;stroke-width:2;stroke:rgb(255,255,255)\"/><rect x=\"275\" y=\"0\" width=\"55\" height=\"55\" style=\"fill:#57db57;stroke-width:2;stroke:rgb(255,255,255)\"/></svg>"
      ],
      "text/plain": [
       "[(0.33999999999999997, 0.8599999999999999, 0.86),\n",
       " (0.33999999999999997, 0.33999999999999997, 0.86),\n",
       " (0.8599999999999995, 0.33999999999999997, 0.86),\n",
       " (0.86, 0.33999999999999997, 0.33999999999999997),\n",
       " (0.86, 0.8599999999999995, 0.33999999999999997),\n",
       " (0.3400000000000003, 0.86, 0.33999999999999997)]"
      ]
     },
     "execution_count": 107,
     "metadata": {},
     "output_type": "execute_result"
    }
   ],
   "source": [
    "sns.hls_palette(h=.5)"
   ]
  },
  {
   "cell_type": "code",
   "execution_count": 115,
   "metadata": {},
   "outputs": [
    {
     "data": {
      "image/png": "[encoded data removed]",
      "text/plain": [
       "<Figure size 800x600 with 1 Axes>"
      ]
     },
     "metadata": {},
     "output_type": "display_data"
    }
   ],
   "source": [
    "plt.figure(figsize=(8, 6))\n",
    "plots = sns.barplot(x=\"Sequences\", y=\"Time\", data=df, palette='Paired')\n",
    "\n",
    "for bar in plots.patches:\n",
    "    plots.annotate(format(bar.get_height(), '.2f'),\n",
    "    (bar.get_x() + bar.get_width() / 2,\n",
    "    bar.get_height()), ha='center', va='center',\n",
    "    size=9, xytext=(0, 8),\n",
    "    textcoords='offset points')\n",
    "plt.xlabel(\"Sequences\", size=15)\n",
    "\n",
    "plt.ylabel(\"Cycle time\", size=15)\n",
    "\n",
    "plt.show()"
   ]
  }
 ],
 "metadata": {
  "kernelspec": {
   "display_name": "Python 3",
   "language": "python",
   "name": "python3"
  },
  "language_info": {
   "codemirror_mode": {
    "name": "ipython",
    "version": 3
   },
   "file_extension": ".py",
   "mimetype": "text/x-python",
   "name": "python",
   "nbconvert_exporter": "python",
   "pygments_lexer": "ipython3",
   "version": "3.7.3"
  },
  "orig_nbformat": 4
 },
 "nbformat": 4,
 "nbformat_minor": 2
}
